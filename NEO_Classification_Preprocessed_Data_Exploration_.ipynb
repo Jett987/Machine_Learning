{
  "cells": [
    {
      "cell_type": "markdown",
      "metadata": {
        "id": "view-in-github",
        "colab_type": "text"
      },
      "source": [
        "<a href=\"https://colab.research.google.com/github/Jett987/Machine_Learning/blob/main/NEO_Classification_Preprocessed_Data_Exploration_.ipynb\" target=\"_parent\"><img src=\"https://colab.research.google.com/assets/colab-badge.svg\" alt=\"Open In Colab\"/></a>"
      ]
    },
    {
      "cell_type": "markdown",
      "source": [
        "Assigment 4 CMPSC-4983-01 Dr. Reddy's Machine Learning\n",
        "(all coding was referenced from Dr. Reddy's lecture video and Example, and the references listed at the bottom of the document)"
      ],
      "metadata": {
        "id": "2RrOHzF5oMXX"
      },
      "id": "2RrOHzF5oMXX"
    },
    {
      "cell_type": "markdown",
      "source": [
        "To ensure the correct data was being used, I added on to the previous assignment."
      ],
      "metadata": {
        "id": "CrWpHs6JerEv"
      },
      "id": "CrWpHs6JerEv"
    },
    {
      "cell_type": "markdown",
      "source": [
        "# Assignment 4: Machine Learning (CMPSC-4983-01)  \n",
        "\n",
        "### Jett McDowell"
      ],
      "metadata": {
        "id": "iJG8Iy7soQxc"
      },
      "id": "iJG8Iy7soQxc"
    },
    {
      "cell_type": "markdown",
      "source": [
        "#Removing Missing Values:"
      ],
      "metadata": {
        "id": "QYz22yADlMcB"
      },
      "id": "QYz22yADlMcB"
    },
    {
      "cell_type": "markdown",
      "metadata": {
        "id": "58427dc8"
      },
      "source": [
        "The dataset I will be using is Near Earth Objects (NEO). The dataset doesn't appear to contain significant amounts of data issues, but I will try to use the provided code examples to ensure I am using clean data. The following lines of code imports the dataset and establishes the column names that the data will be presented under."
      ],
      "id": "58427dc8"
    },
    {
      "cell_type": "code",
      "execution_count": 1,
      "metadata": {
        "colab": {
          "base_uri": "https://localhost:8080/",
          "height": 243
        },
        "id": "22054290",
        "outputId": "023aa1ab-0b82-47b7-b4df-7c551c58c269"
      },
      "outputs": [
        {
          "output_type": "stream",
          "name": "stdout",
          "text": [
            "Total Number of Records:  90836\n",
            "Total Number of Features: 10\n"
          ]
        },
        {
          "output_type": "execute_result",
          "data": {
            "text/plain": [
              "        id                 Name  est_diameter_min  est_diameter_max  \\\n",
              "0  2162635  162635 (2000 SS164)          1.198271          2.679415   \n",
              "1  2277475    277475 (2005 WK4)          0.265800          0.594347   \n",
              "2  2512244   512244 (2015 YE18)          0.722030          1.614507   \n",
              "3  3596030          (2012 BV13)          0.096506          0.215794   \n",
              "4  3667127          (2014 GE35)          0.255009          0.570217   \n",
              "\n",
              "   relative_velocity  miss_distance orbiting_body  sentry_object  \\\n",
              "0        13569.24922    54839744.08         Earth          False   \n",
              "1        73588.72666    61438126.52         Earth          False   \n",
              "2       114258.69210    49798724.94         Earth          False   \n",
              "3        24764.30314    25434972.72         Earth          False   \n",
              "4        42737.73376    46275567.00         Earth          False   \n",
              "\n",
              "   absolute_magnitude  hazardous  \n",
              "0               16.73      False  \n",
              "1               20.00       True  \n",
              "2               17.83      False  \n",
              "3               22.20      False  \n",
              "4               20.09       True  "
            ],
            "text/html": [
              "\n",
              "  <div id=\"df-536d0ade-3e91-4c44-aca1-9d3756f481e1\">\n",
              "    <div class=\"colab-df-container\">\n",
              "      <div>\n",
              "<style scoped>\n",
              "    .dataframe tbody tr th:only-of-type {\n",
              "        vertical-align: middle;\n",
              "    }\n",
              "\n",
              "    .dataframe tbody tr th {\n",
              "        vertical-align: top;\n",
              "    }\n",
              "\n",
              "    .dataframe thead th {\n",
              "        text-align: right;\n",
              "    }\n",
              "</style>\n",
              "<table border=\"1\" class=\"dataframe\">\n",
              "  <thead>\n",
              "    <tr style=\"text-align: right;\">\n",
              "      <th></th>\n",
              "      <th>id</th>\n",
              "      <th>Name</th>\n",
              "      <th>est_diameter_min</th>\n",
              "      <th>est_diameter_max</th>\n",
              "      <th>relative_velocity</th>\n",
              "      <th>miss_distance</th>\n",
              "      <th>orbiting_body</th>\n",
              "      <th>sentry_object</th>\n",
              "      <th>absolute_magnitude</th>\n",
              "      <th>hazardous</th>\n",
              "    </tr>\n",
              "  </thead>\n",
              "  <tbody>\n",
              "    <tr>\n",
              "      <th>0</th>\n",
              "      <td>2162635</td>\n",
              "      <td>162635 (2000 SS164)</td>\n",
              "      <td>1.198271</td>\n",
              "      <td>2.679415</td>\n",
              "      <td>13569.24922</td>\n",
              "      <td>54839744.08</td>\n",
              "      <td>Earth</td>\n",
              "      <td>False</td>\n",
              "      <td>16.73</td>\n",
              "      <td>False</td>\n",
              "    </tr>\n",
              "    <tr>\n",
              "      <th>1</th>\n",
              "      <td>2277475</td>\n",
              "      <td>277475 (2005 WK4)</td>\n",
              "      <td>0.265800</td>\n",
              "      <td>0.594347</td>\n",
              "      <td>73588.72666</td>\n",
              "      <td>61438126.52</td>\n",
              "      <td>Earth</td>\n",
              "      <td>False</td>\n",
              "      <td>20.00</td>\n",
              "      <td>True</td>\n",
              "    </tr>\n",
              "    <tr>\n",
              "      <th>2</th>\n",
              "      <td>2512244</td>\n",
              "      <td>512244 (2015 YE18)</td>\n",
              "      <td>0.722030</td>\n",
              "      <td>1.614507</td>\n",
              "      <td>114258.69210</td>\n",
              "      <td>49798724.94</td>\n",
              "      <td>Earth</td>\n",
              "      <td>False</td>\n",
              "      <td>17.83</td>\n",
              "      <td>False</td>\n",
              "    </tr>\n",
              "    <tr>\n",
              "      <th>3</th>\n",
              "      <td>3596030</td>\n",
              "      <td>(2012 BV13)</td>\n",
              "      <td>0.096506</td>\n",
              "      <td>0.215794</td>\n",
              "      <td>24764.30314</td>\n",
              "      <td>25434972.72</td>\n",
              "      <td>Earth</td>\n",
              "      <td>False</td>\n",
              "      <td>22.20</td>\n",
              "      <td>False</td>\n",
              "    </tr>\n",
              "    <tr>\n",
              "      <th>4</th>\n",
              "      <td>3667127</td>\n",
              "      <td>(2014 GE35)</td>\n",
              "      <td>0.255009</td>\n",
              "      <td>0.570217</td>\n",
              "      <td>42737.73376</td>\n",
              "      <td>46275567.00</td>\n",
              "      <td>Earth</td>\n",
              "      <td>False</td>\n",
              "      <td>20.09</td>\n",
              "      <td>True</td>\n",
              "    </tr>\n",
              "  </tbody>\n",
              "</table>\n",
              "</div>\n",
              "      <button class=\"colab-df-convert\" onclick=\"convertToInteractive('df-536d0ade-3e91-4c44-aca1-9d3756f481e1')\"\n",
              "              title=\"Convert this dataframe to an interactive table.\"\n",
              "              style=\"display:none;\">\n",
              "        \n",
              "  <svg xmlns=\"http://www.w3.org/2000/svg\" height=\"24px\"viewBox=\"0 0 24 24\"\n",
              "       width=\"24px\">\n",
              "    <path d=\"M0 0h24v24H0V0z\" fill=\"none\"/>\n",
              "    <path d=\"M18.56 5.44l.94 2.06.94-2.06 2.06-.94-2.06-.94-.94-2.06-.94 2.06-2.06.94zm-11 1L8.5 8.5l.94-2.06 2.06-.94-2.06-.94L8.5 2.5l-.94 2.06-2.06.94zm10 10l.94 2.06.94-2.06 2.06-.94-2.06-.94-.94-2.06-.94 2.06-2.06.94z\"/><path d=\"M17.41 7.96l-1.37-1.37c-.4-.4-.92-.59-1.43-.59-.52 0-1.04.2-1.43.59L10.3 9.45l-7.72 7.72c-.78.78-.78 2.05 0 2.83L4 21.41c.39.39.9.59 1.41.59.51 0 1.02-.2 1.41-.59l7.78-7.78 2.81-2.81c.8-.78.8-2.07 0-2.86zM5.41 20L4 18.59l7.72-7.72 1.47 1.35L5.41 20z\"/>\n",
              "  </svg>\n",
              "      </button>\n",
              "      \n",
              "  <style>\n",
              "    .colab-df-container {\n",
              "      display:flex;\n",
              "      flex-wrap:wrap;\n",
              "      gap: 12px;\n",
              "    }\n",
              "\n",
              "    .colab-df-convert {\n",
              "      background-color: #E8F0FE;\n",
              "      border: none;\n",
              "      border-radius: 50%;\n",
              "      cursor: pointer;\n",
              "      display: none;\n",
              "      fill: #1967D2;\n",
              "      height: 32px;\n",
              "      padding: 0 0 0 0;\n",
              "      width: 32px;\n",
              "    }\n",
              "\n",
              "    .colab-df-convert:hover {\n",
              "      background-color: #E2EBFA;\n",
              "      box-shadow: 0px 1px 2px rgba(60, 64, 67, 0.3), 0px 1px 3px 1px rgba(60, 64, 67, 0.15);\n",
              "      fill: #174EA6;\n",
              "    }\n",
              "\n",
              "    [theme=dark] .colab-df-convert {\n",
              "      background-color: #3B4455;\n",
              "      fill: #D2E3FC;\n",
              "    }\n",
              "\n",
              "    [theme=dark] .colab-df-convert:hover {\n",
              "      background-color: #434B5C;\n",
              "      box-shadow: 0px 1px 3px 1px rgba(0, 0, 0, 0.15);\n",
              "      filter: drop-shadow(0px 1px 2px rgba(0, 0, 0, 0.3));\n",
              "      fill: #FFFFFF;\n",
              "    }\n",
              "  </style>\n",
              "\n",
              "      <script>\n",
              "        const buttonEl =\n",
              "          document.querySelector('#df-536d0ade-3e91-4c44-aca1-9d3756f481e1 button.colab-df-convert');\n",
              "        buttonEl.style.display =\n",
              "          google.colab.kernel.accessAllowed ? 'block' : 'none';\n",
              "\n",
              "        async function convertToInteractive(key) {\n",
              "          const element = document.querySelector('#df-536d0ade-3e91-4c44-aca1-9d3756f481e1');\n",
              "          const dataTable =\n",
              "            await google.colab.kernel.invokeFunction('convertToInteractive',\n",
              "                                                     [key], {});\n",
              "          if (!dataTable) return;\n",
              "\n",
              "          const docLinkHtml = 'Like what you see? Visit the ' +\n",
              "            '<a target=\"_blank\" href=https://colab.research.google.com/notebooks/data_table.ipynb>data table notebook</a>'\n",
              "            + ' to learn more about interactive tables.';\n",
              "          element.innerHTML = '';\n",
              "          dataTable['output_type'] = 'display_data';\n",
              "          await google.colab.output.renderOutput(dataTable, element);\n",
              "          const docLink = document.createElement('div');\n",
              "          docLink.innerHTML = docLinkHtml;\n",
              "          element.appendChild(docLink);\n",
              "        }\n",
              "      </script>\n",
              "    </div>\n",
              "  </div>\n",
              "  "
            ]
          },
          "metadata": {},
          "execution_count": 1
        }
      ],
      "source": [
        "import pandas as pd\n",
        "data = pd.read_csv('https://raw.githubusercontent.com/Jett987/Machine_Learning/main/neo_namesremoved.csv', header=None)\n",
        "data.columns = ['id', 'Name', 'est_diameter_min', 'est_diameter_max','relative_velocity', 'miss_distance', 'orbiting_body', 'sentry_object','absolute_magnitude', 'hazardous']\n",
        "\n",
        "print('Total Number of Records:  %d' % (data.shape[0]))\n",
        "print('Total Number of Features: %d' % (data.shape[1]))\n",
        "data.head()"
      ],
      "id": "22054290"
    },
    {
      "cell_type": "markdown",
      "metadata": {
        "id": "e8db17dd"
      },
      "source": [
        "Next, I will check the dataset for missing values. The dataset I am using does not appear to have any missing values."
      ],
      "id": "e8db17dd"
    },
    {
      "cell_type": "code",
      "execution_count": 2,
      "metadata": {
        "id": "793a5880",
        "colab": {
          "base_uri": "https://localhost:8080/"
        },
        "outputId": "96cb7a30-fc79-4cf7-fcf8-47e642387881"
      },
      "outputs": [
        {
          "output_type": "stream",
          "name": "stdout",
          "text": [
            "Total Number of Records: 90836\n",
            "Total Number of Features: 10\n",
            "Total Number of missing values:\n",
            "\n",
            "id: 0\n",
            "\n",
            "Name: 0\n",
            "\n",
            "est_diameter_min: 0\n",
            "\n",
            "est_diameter_max: 0\n",
            "\n",
            "relative_velocity: 0\n",
            "\n",
            "miss_distance: 0\n",
            "\n",
            "orbiting_body: 0\n",
            "\n",
            "sentry_object: 0\n",
            "\n",
            "absolute_magnitude: 0\n",
            "\n",
            "hazardous: 0\n"
          ]
        }
      ],
      "source": [
        "import numpy as np\n",
        "\n",
        "data = data.replace('?',np.NaN)\n",
        "\n",
        "print('Total Number of Records: %d' % (data.shape[0]))\n",
        "print('Total Number of Features: %d' % (data.shape[1]))\n",
        "print('Total Number of missing values:')\n",
        "for col in data.columns:\n",
        "    print('\\n%s: %d' % (col,data[col].isna().sum()))"
      ],
      "id": "793a5880"
    },
    {
      "cell_type": "markdown",
      "metadata": {
        "id": "c88a81e0"
      },
      "source": [
        "The next line of code is an additional way to check for missing data. Again, the results display no missing data."
      ],
      "id": "c88a81e0"
    },
    {
      "cell_type": "code",
      "execution_count": 3,
      "metadata": {
        "id": "422e19a9",
        "colab": {
          "base_uri": "https://localhost:8080/"
        },
        "outputId": "f7c27264-f11d-46a4-b2d6-367927aef2ff"
      },
      "outputs": [
        {
          "output_type": "stream",
          "name": "stdout",
          "text": [
            "Total number of rows before removing missing values: 90836\n",
            "Total number of rows after dropping missing values: 90836\n"
          ]
        }
      ],
      "source": [
        "print('Total number of rows before removing missing values: %d' % (data.shape[0]))\n",
        "data2 = data.dropna()\n",
        "print('Total number of rows after dropping missing values: %d' % (data2.shape[0]))"
      ],
      "id": "422e19a9"
    },
    {
      "cell_type": "markdown",
      "source": [
        "#Checking for Outliers:"
      ],
      "metadata": {
        "id": "xdb7aDG8lY_H"
      },
      "id": "xdb7aDG8lY_H"
    },
    {
      "cell_type": "markdown",
      "metadata": {
        "id": "aa6b3cdb"
      },
      "source": [
        "First, I will display the first five rows of the data I am checking."
      ],
      "id": "aa6b3cdb"
    },
    {
      "cell_type": "code",
      "source": [
        "data2.head()"
      ],
      "metadata": {
        "id": "ylq0PDAixBv7",
        "colab": {
          "base_uri": "https://localhost:8080/",
          "height": 206
        },
        "outputId": "1423988b-5419-4520-c2e3-47f8b4e3d8a5"
      },
      "id": "ylq0PDAixBv7",
      "execution_count": 4,
      "outputs": [
        {
          "output_type": "execute_result",
          "data": {
            "text/plain": [
              "        id                 Name  est_diameter_min  est_diameter_max  \\\n",
              "0  2162635  162635 (2000 SS164)          1.198271          2.679415   \n",
              "1  2277475    277475 (2005 WK4)          0.265800          0.594347   \n",
              "2  2512244   512244 (2015 YE18)          0.722030          1.614507   \n",
              "3  3596030          (2012 BV13)          0.096506          0.215794   \n",
              "4  3667127          (2014 GE35)          0.255009          0.570217   \n",
              "\n",
              "   relative_velocity  miss_distance orbiting_body  sentry_object  \\\n",
              "0        13569.24922    54839744.08         Earth          False   \n",
              "1        73588.72666    61438126.52         Earth          False   \n",
              "2       114258.69210    49798724.94         Earth          False   \n",
              "3        24764.30314    25434972.72         Earth          False   \n",
              "4        42737.73376    46275567.00         Earth          False   \n",
              "\n",
              "   absolute_magnitude  hazardous  \n",
              "0               16.73      False  \n",
              "1               20.00       True  \n",
              "2               17.83      False  \n",
              "3               22.20      False  \n",
              "4               20.09       True  "
            ],
            "text/html": [
              "\n",
              "  <div id=\"df-b85d7922-4bbc-4949-b7db-fc910b569563\">\n",
              "    <div class=\"colab-df-container\">\n",
              "      <div>\n",
              "<style scoped>\n",
              "    .dataframe tbody tr th:only-of-type {\n",
              "        vertical-align: middle;\n",
              "    }\n",
              "\n",
              "    .dataframe tbody tr th {\n",
              "        vertical-align: top;\n",
              "    }\n",
              "\n",
              "    .dataframe thead th {\n",
              "        text-align: right;\n",
              "    }\n",
              "</style>\n",
              "<table border=\"1\" class=\"dataframe\">\n",
              "  <thead>\n",
              "    <tr style=\"text-align: right;\">\n",
              "      <th></th>\n",
              "      <th>id</th>\n",
              "      <th>Name</th>\n",
              "      <th>est_diameter_min</th>\n",
              "      <th>est_diameter_max</th>\n",
              "      <th>relative_velocity</th>\n",
              "      <th>miss_distance</th>\n",
              "      <th>orbiting_body</th>\n",
              "      <th>sentry_object</th>\n",
              "      <th>absolute_magnitude</th>\n",
              "      <th>hazardous</th>\n",
              "    </tr>\n",
              "  </thead>\n",
              "  <tbody>\n",
              "    <tr>\n",
              "      <th>0</th>\n",
              "      <td>2162635</td>\n",
              "      <td>162635 (2000 SS164)</td>\n",
              "      <td>1.198271</td>\n",
              "      <td>2.679415</td>\n",
              "      <td>13569.24922</td>\n",
              "      <td>54839744.08</td>\n",
              "      <td>Earth</td>\n",
              "      <td>False</td>\n",
              "      <td>16.73</td>\n",
              "      <td>False</td>\n",
              "    </tr>\n",
              "    <tr>\n",
              "      <th>1</th>\n",
              "      <td>2277475</td>\n",
              "      <td>277475 (2005 WK4)</td>\n",
              "      <td>0.265800</td>\n",
              "      <td>0.594347</td>\n",
              "      <td>73588.72666</td>\n",
              "      <td>61438126.52</td>\n",
              "      <td>Earth</td>\n",
              "      <td>False</td>\n",
              "      <td>20.00</td>\n",
              "      <td>True</td>\n",
              "    </tr>\n",
              "    <tr>\n",
              "      <th>2</th>\n",
              "      <td>2512244</td>\n",
              "      <td>512244 (2015 YE18)</td>\n",
              "      <td>0.722030</td>\n",
              "      <td>1.614507</td>\n",
              "      <td>114258.69210</td>\n",
              "      <td>49798724.94</td>\n",
              "      <td>Earth</td>\n",
              "      <td>False</td>\n",
              "      <td>17.83</td>\n",
              "      <td>False</td>\n",
              "    </tr>\n",
              "    <tr>\n",
              "      <th>3</th>\n",
              "      <td>3596030</td>\n",
              "      <td>(2012 BV13)</td>\n",
              "      <td>0.096506</td>\n",
              "      <td>0.215794</td>\n",
              "      <td>24764.30314</td>\n",
              "      <td>25434972.72</td>\n",
              "      <td>Earth</td>\n",
              "      <td>False</td>\n",
              "      <td>22.20</td>\n",
              "      <td>False</td>\n",
              "    </tr>\n",
              "    <tr>\n",
              "      <th>4</th>\n",
              "      <td>3667127</td>\n",
              "      <td>(2014 GE35)</td>\n",
              "      <td>0.255009</td>\n",
              "      <td>0.570217</td>\n",
              "      <td>42737.73376</td>\n",
              "      <td>46275567.00</td>\n",
              "      <td>Earth</td>\n",
              "      <td>False</td>\n",
              "      <td>20.09</td>\n",
              "      <td>True</td>\n",
              "    </tr>\n",
              "  </tbody>\n",
              "</table>\n",
              "</div>\n",
              "      <button class=\"colab-df-convert\" onclick=\"convertToInteractive('df-b85d7922-4bbc-4949-b7db-fc910b569563')\"\n",
              "              title=\"Convert this dataframe to an interactive table.\"\n",
              "              style=\"display:none;\">\n",
              "        \n",
              "  <svg xmlns=\"http://www.w3.org/2000/svg\" height=\"24px\"viewBox=\"0 0 24 24\"\n",
              "       width=\"24px\">\n",
              "    <path d=\"M0 0h24v24H0V0z\" fill=\"none\"/>\n",
              "    <path d=\"M18.56 5.44l.94 2.06.94-2.06 2.06-.94-2.06-.94-.94-2.06-.94 2.06-2.06.94zm-11 1L8.5 8.5l.94-2.06 2.06-.94-2.06-.94L8.5 2.5l-.94 2.06-2.06.94zm10 10l.94 2.06.94-2.06 2.06-.94-2.06-.94-.94-2.06-.94 2.06-2.06.94z\"/><path d=\"M17.41 7.96l-1.37-1.37c-.4-.4-.92-.59-1.43-.59-.52 0-1.04.2-1.43.59L10.3 9.45l-7.72 7.72c-.78.78-.78 2.05 0 2.83L4 21.41c.39.39.9.59 1.41.59.51 0 1.02-.2 1.41-.59l7.78-7.78 2.81-2.81c.8-.78.8-2.07 0-2.86zM5.41 20L4 18.59l7.72-7.72 1.47 1.35L5.41 20z\"/>\n",
              "  </svg>\n",
              "      </button>\n",
              "      \n",
              "  <style>\n",
              "    .colab-df-container {\n",
              "      display:flex;\n",
              "      flex-wrap:wrap;\n",
              "      gap: 12px;\n",
              "    }\n",
              "\n",
              "    .colab-df-convert {\n",
              "      background-color: #E8F0FE;\n",
              "      border: none;\n",
              "      border-radius: 50%;\n",
              "      cursor: pointer;\n",
              "      display: none;\n",
              "      fill: #1967D2;\n",
              "      height: 32px;\n",
              "      padding: 0 0 0 0;\n",
              "      width: 32px;\n",
              "    }\n",
              "\n",
              "    .colab-df-convert:hover {\n",
              "      background-color: #E2EBFA;\n",
              "      box-shadow: 0px 1px 2px rgba(60, 64, 67, 0.3), 0px 1px 3px 1px rgba(60, 64, 67, 0.15);\n",
              "      fill: #174EA6;\n",
              "    }\n",
              "\n",
              "    [theme=dark] .colab-df-convert {\n",
              "      background-color: #3B4455;\n",
              "      fill: #D2E3FC;\n",
              "    }\n",
              "\n",
              "    [theme=dark] .colab-df-convert:hover {\n",
              "      background-color: #434B5C;\n",
              "      box-shadow: 0px 1px 3px 1px rgba(0, 0, 0, 0.15);\n",
              "      filter: drop-shadow(0px 1px 2px rgba(0, 0, 0, 0.3));\n",
              "      fill: #FFFFFF;\n",
              "    }\n",
              "  </style>\n",
              "\n",
              "      <script>\n",
              "        const buttonEl =\n",
              "          document.querySelector('#df-b85d7922-4bbc-4949-b7db-fc910b569563 button.colab-df-convert');\n",
              "        buttonEl.style.display =\n",
              "          google.colab.kernel.accessAllowed ? 'block' : 'none';\n",
              "\n",
              "        async function convertToInteractive(key) {\n",
              "          const element = document.querySelector('#df-b85d7922-4bbc-4949-b7db-fc910b569563');\n",
              "          const dataTable =\n",
              "            await google.colab.kernel.invokeFunction('convertToInteractive',\n",
              "                                                     [key], {});\n",
              "          if (!dataTable) return;\n",
              "\n",
              "          const docLinkHtml = 'Like what you see? Visit the ' +\n",
              "            '<a target=\"_blank\" href=https://colab.research.google.com/notebooks/data_table.ipynb>data table notebook</a>'\n",
              "            + ' to learn more about interactive tables.';\n",
              "          element.innerHTML = '';\n",
              "          dataTable['output_type'] = 'display_data';\n",
              "          await google.colab.output.renderOutput(dataTable, element);\n",
              "          const docLink = document.createElement('div');\n",
              "          docLink.innerHTML = docLinkHtml;\n",
              "          element.appendChild(docLink);\n",
              "        }\n",
              "      </script>\n",
              "    </div>\n",
              "  </div>\n",
              "  "
            ]
          },
          "metadata": {},
          "execution_count": 4
        }
      ]
    },
    {
      "cell_type": "markdown",
      "source": [
        "Next, I will use box plots to check for any outliers. It's important to remember to drop any non-numeric datatypes prior to plotting the data."
      ],
      "metadata": {
        "id": "J-NZ7SSglrzh"
      },
      "id": "J-NZ7SSglrzh"
    },
    {
      "cell_type": "code",
      "execution_count": 5,
      "metadata": {
        "id": "7bb0b9b8",
        "colab": {
          "base_uri": "https://localhost:8080/"
        },
        "outputId": "bf678959-2e90-4d36-ef2e-b831c5beee32"
      },
      "outputs": [
        {
          "output_type": "execute_result",
          "data": {
            "text/plain": [
              "id                      int64\n",
              "est_diameter_min      float64\n",
              "est_diameter_max      float64\n",
              "relative_velocity     float64\n",
              "miss_distance         float64\n",
              "absolute_magnitude    float64\n",
              "dtype: object"
            ]
          },
          "metadata": {},
          "execution_count": 5
        }
      ],
      "source": [
        "%matplotlib inline\n",
        "\n",
        "data2 = data.drop(['Name','orbiting_body','sentry_object','hazardous'],axis=1)\n",
        "data2.dtypes\n"
      ],
      "id": "7bb0b9b8"
    },
    {
      "cell_type": "markdown",
      "source": [
        "After removing the columns that contained strings, each column contains numeric values."
      ],
      "metadata": {
        "id": "3tD_CbUHmoDW"
      },
      "id": "3tD_CbUHmoDW"
    },
    {
      "cell_type": "code",
      "source": [
        "data2.boxplot(figsize=(20,3))"
      ],
      "metadata": {
        "id": "OFTjjv1kmlk6",
        "colab": {
          "base_uri": "https://localhost:8080/",
          "height": 325
        },
        "outputId": "0665864b-e741-4e97-80f3-a2f25e3056d4"
      },
      "id": "OFTjjv1kmlk6",
      "execution_count": 6,
      "outputs": [
        {
          "output_type": "execute_result",
          "data": {
            "text/plain": [
              "<Axes: >"
            ]
          },
          "metadata": {},
          "execution_count": 6
        },
        {
          "output_type": "display_data",
          "data": {
            "text/plain": [
              "<Figure size 2000x300 with 1 Axes>"
            ],
            "image/png": "[encoded data removed]"
          },
          "metadata": {}
        }
      ]
    },
    {
      "cell_type": "markdown",
      "metadata": {
        "id": "9065f176"
      },
      "source": [
        "When evaluating the boxplot listed above, the only outlier appears to be in the id column. I will attempt to resolve it with the following lines of code:"
      ],
      "id": "9065f176"
    },
    {
      "cell_type": "code",
      "source": [
        "Z = (data2-data2.mean())/data2.std()\n",
        "Z[1:90836]"
      ],
      "metadata": {
        "id": "e3HHlrRn-0Yr",
        "colab": {
          "base_uri": "https://localhost:8080/",
          "height": 423
        },
        "outputId": "49f9a52d-39f8-4aa0-db91-75cb786367e6"
      },
      "id": "e3HHlrRn-0Yr",
      "execution_count": 7,
      "outputs": [
        {
          "output_type": "execute_result",
          "data": {
            "text/plain": [
              "             id  est_diameter_min  est_diameter_max  relative_velocity  \\\n",
              "1     -0.579982          0.463527          0.463527           1.009034   \n",
              "2     -0.568734          1.991876          1.991876           2.616969   \n",
              "3     -0.516809         -0.103601         -0.103601          -0.921296   \n",
              "4     -0.513403          0.427376          0.427376          -0.210696   \n",
              "5      1.904742         -0.305107         -0.305107          -0.544387   \n",
              "...         ...               ...               ...                ...   \n",
              "90831 -0.508793         -0.337850         -0.337850           0.158618   \n",
              "90832 -0.505235         -0.370711         -0.370711          -0.077187   \n",
              "90833  1.898921         -0.319840         -0.319840          -1.601219   \n",
              "90834  1.903647         -0.402368         -0.402368           0.835488   \n",
              "90835  1.907940         -0.293357         -0.293357          -0.831938   \n",
              "\n",
              "       miss_distance  absolute_magnitude  \n",
              "1           1.090351           -1.218728  \n",
              "2           0.569620           -1.968533  \n",
              "3          -0.520381           -0.458557  \n",
              "4           0.411999           -1.187630  \n",
              "5           0.157442            0.273971  \n",
              "...              ...                 ...  \n",
              "90831      -1.108004            0.508933  \n",
              "90832       0.771950            0.854466  \n",
              "90833      -0.387695            0.370720  \n",
              "90834       1.414883            1.476424  \n",
              "90835       1.015817            0.204865  \n",
              "\n",
              "[90835 rows x 6 columns]"
            ],
            "text/html": [
              "\n",
              "  <div id=\"df-88fae7ba-8ce9-4d25-a1bb-555b9b23259c\">\n",
              "    <div class=\"colab-df-container\">\n",
              "      <div>\n",
              "<style scoped>\n",
              "    .dataframe tbody tr th:only-of-type {\n",
              "        vertical-align: middle;\n",
              "    }\n",
              "\n",
              "    .dataframe tbody tr th {\n",
              "        vertical-align: top;\n",
              "    }\n",
              "\n",
              "    .dataframe thead th {\n",
              "        text-align: right;\n",
              "    }\n",
              "</style>\n",
              "<table border=\"1\" class=\"dataframe\">\n",
              "  <thead>\n",
              "    <tr style=\"text-align: right;\">\n",
              "      <th></th>\n",
              "      <th>id</th>\n",
              "      <th>est_diameter_min</th>\n",
              "      <th>est_diameter_max</th>\n",
              "      <th>relative_velocity</th>\n",
              "      <th>miss_distance</th>\n",
              "      <th>absolute_magnitude</th>\n",
              "    </tr>\n",
              "  </thead>\n",
              "  <tbody>\n",
              "    <tr>\n",
              "      <th>1</th>\n",
              "      <td>-0.579982</td>\n",
              "      <td>0.463527</td>\n",
              "      <td>0.463527</td>\n",
              "      <td>1.009034</td>\n",
              "      <td>1.090351</td>\n",
              "      <td>-1.218728</td>\n",
              "    </tr>\n",
              "    <tr>\n",
              "      <th>2</th>\n",
              "      <td>-0.568734</td>\n",
              "      <td>1.991876</td>\n",
              "      <td>1.991876</td>\n",
              "      <td>2.616969</td>\n",
              "      <td>0.569620</td>\n",
              "      <td>-1.968533</td>\n",
              "    </tr>\n",
              "    <tr>\n",
              "      <th>3</th>\n",
              "      <td>-0.516809</td>\n",
              "      <td>-0.103601</td>\n",
              "      <td>-0.103601</td>\n",
              "      <td>-0.921296</td>\n",
              "      <td>-0.520381</td>\n",
              "      <td>-0.458557</td>\n",
              "    </tr>\n",
              "    <tr>\n",
              "      <th>4</th>\n",
              "      <td>-0.513403</td>\n",
              "      <td>0.427376</td>\n",
              "      <td>0.427376</td>\n",
              "      <td>-0.210696</td>\n",
              "      <td>0.411999</td>\n",
              "      <td>-1.187630</td>\n",
              "    </tr>\n",
              "    <tr>\n",
              "      <th>5</th>\n",
              "      <td>1.904742</td>\n",
              "      <td>-0.305107</td>\n",
              "      <td>-0.305107</td>\n",
              "      <td>-0.544387</td>\n",
              "      <td>0.157442</td>\n",
              "      <td>0.273971</td>\n",
              "    </tr>\n",
              "    <tr>\n",
              "      <th>...</th>\n",
              "      <td>...</td>\n",
              "      <td>...</td>\n",
              "      <td>...</td>\n",
              "      <td>...</td>\n",
              "      <td>...</td>\n",
              "      <td>...</td>\n",
              "    </tr>\n",
              "    <tr>\n",
              "      <th>90831</th>\n",
              "      <td>-0.508793</td>\n",
              "      <td>-0.337850</td>\n",
              "      <td>-0.337850</td>\n",
              "      <td>0.158618</td>\n",
              "      <td>-1.108004</td>\n",
              "      <td>0.508933</td>\n",
              "    </tr>\n",
              "    <tr>\n",
              "      <th>90832</th>\n",
              "      <td>-0.505235</td>\n",
              "      <td>-0.370711</td>\n",
              "      <td>-0.370711</td>\n",
              "      <td>-0.077187</td>\n",
              "      <td>0.771950</td>\n",
              "      <td>0.854466</td>\n",
              "    </tr>\n",
              "    <tr>\n",
              "      <th>90833</th>\n",
              "      <td>1.898921</td>\n",
              "      <td>-0.319840</td>\n",
              "      <td>-0.319840</td>\n",
              "      <td>-1.601219</td>\n",
              "      <td>-0.387695</td>\n",
              "      <td>0.370720</td>\n",
              "    </tr>\n",
              "    <tr>\n",
              "      <th>90834</th>\n",
              "      <td>1.903647</td>\n",
              "      <td>-0.402368</td>\n",
              "      <td>-0.402368</td>\n",
              "      <td>0.835488</td>\n",
              "      <td>1.414883</td>\n",
              "      <td>1.476424</td>\n",
              "    </tr>\n",
              "    <tr>\n",
              "      <th>90835</th>\n",
              "      <td>1.907940</td>\n",
              "      <td>-0.293357</td>\n",
              "      <td>-0.293357</td>\n",
              "      <td>-0.831938</td>\n",
              "      <td>1.015817</td>\n",
              "      <td>0.204865</td>\n",
              "    </tr>\n",
              "  </tbody>\n",
              "</table>\n",
              "<p>90835 rows × 6 columns</p>\n",
              "</div>\n",
              "      <button class=\"colab-df-convert\" onclick=\"convertToInteractive('df-88fae7ba-8ce9-4d25-a1bb-555b9b23259c')\"\n",
              "              title=\"Convert this dataframe to an interactive table.\"\n",
              "              style=\"display:none;\">\n",
              "        \n",
              "  <svg xmlns=\"http://www.w3.org/2000/svg\" height=\"24px\"viewBox=\"0 0 24 24\"\n",
              "       width=\"24px\">\n",
              "    <path d=\"M0 0h24v24H0V0z\" fill=\"none\"/>\n",
              "    <path d=\"M18.56 5.44l.94 2.06.94-2.06 2.06-.94-2.06-.94-.94-2.06-.94 2.06-2.06.94zm-11 1L8.5 8.5l.94-2.06 2.06-.94-2.06-.94L8.5 2.5l-.94 2.06-2.06.94zm10 10l.94 2.06.94-2.06 2.06-.94-2.06-.94-.94-2.06-.94 2.06-2.06.94z\"/><path d=\"M17.41 7.96l-1.37-1.37c-.4-.4-.92-.59-1.43-.59-.52 0-1.04.2-1.43.59L10.3 9.45l-7.72 7.72c-.78.78-.78 2.05 0 2.83L4 21.41c.39.39.9.59 1.41.59.51 0 1.02-.2 1.41-.59l7.78-7.78 2.81-2.81c.8-.78.8-2.07 0-2.86zM5.41 20L4 18.59l7.72-7.72 1.47 1.35L5.41 20z\"/>\n",
              "  </svg>\n",
              "      </button>\n",
              "      \n",
              "  <style>\n",
              "    .colab-df-container {\n",
              "      display:flex;\n",
              "      flex-wrap:wrap;\n",
              "      gap: 12px;\n",
              "    }\n",
              "\n",
              "    .colab-df-convert {\n",
              "      background-color: #E8F0FE;\n",
              "      border: none;\n",
              "      border-radius: 50%;\n",
              "      cursor: pointer;\n",
              "      display: none;\n",
              "      fill: #1967D2;\n",
              "      height: 32px;\n",
              "      padding: 0 0 0 0;\n",
              "      width: 32px;\n",
              "    }\n",
              "\n",
              "    .colab-df-convert:hover {\n",
              "      background-color: #E2EBFA;\n",
              "      box-shadow: 0px 1px 2px rgba(60, 64, 67, 0.3), 0px 1px 3px 1px rgba(60, 64, 67, 0.15);\n",
              "      fill: #174EA6;\n",
              "    }\n",
              "\n",
              "    [theme=dark] .colab-df-convert {\n",
              "      background-color: #3B4455;\n",
              "      fill: #D2E3FC;\n",
              "    }\n",
              "\n",
              "    [theme=dark] .colab-df-convert:hover {\n",
              "      background-color: #434B5C;\n",
              "      box-shadow: 0px 1px 3px 1px rgba(0, 0, 0, 0.15);\n",
              "      filter: drop-shadow(0px 1px 2px rgba(0, 0, 0, 0.3));\n",
              "      fill: #FFFFFF;\n",
              "    }\n",
              "  </style>\n",
              "\n",
              "      <script>\n",
              "        const buttonEl =\n",
              "          document.querySelector('#df-88fae7ba-8ce9-4d25-a1bb-555b9b23259c button.colab-df-convert');\n",
              "        buttonEl.style.display =\n",
              "          google.colab.kernel.accessAllowed ? 'block' : 'none';\n",
              "\n",
              "        async function convertToInteractive(key) {\n",
              "          const element = document.querySelector('#df-88fae7ba-8ce9-4d25-a1bb-555b9b23259c');\n",
              "          const dataTable =\n",
              "            await google.colab.kernel.invokeFunction('convertToInteractive',\n",
              "                                                     [key], {});\n",
              "          if (!dataTable) return;\n",
              "\n",
              "          const docLinkHtml = 'Like what you see? Visit the ' +\n",
              "            '<a target=\"_blank\" href=https://colab.research.google.com/notebooks/data_table.ipynb>data table notebook</a>'\n",
              "            + ' to learn more about interactive tables.';\n",
              "          element.innerHTML = '';\n",
              "          dataTable['output_type'] = 'display_data';\n",
              "          await google.colab.output.renderOutput(dataTable, element);\n",
              "          const docLink = document.createElement('div');\n",
              "          docLink.innerHTML = docLinkHtml;\n",
              "          element.appendChild(docLink);\n",
              "        }\n",
              "      </script>\n",
              "    </div>\n",
              "  </div>\n",
              "  "
            ]
          },
          "metadata": {},
          "execution_count": 7
        }
      ]
    },
    {
      "cell_type": "code",
      "source": [
        "print('Total number of rows before removing outliers: %d' % (Z.shape[0]))\n",
        "\n",
        "Z2 = Z.loc[((Z > -3).sum(axis=1)==9) & ((Z <= 3).sum(axis=1)==9),:]\n",
        "print('Total number of rows after removing outliers: %d' % (Z2.shape[0]))"
      ],
      "metadata": {
        "id": "aW9VO11__CJR",
        "colab": {
          "base_uri": "https://localhost:8080/"
        },
        "outputId": "e5e0e20f-dc3e-45b5-ca06-3871ca10ae13"
      },
      "id": "aW9VO11__CJR",
      "execution_count": 8,
      "outputs": [
        {
          "output_type": "stream",
          "name": "stdout",
          "text": [
            "Total number of rows before removing outliers: 90836\n",
            "Total number of rows after removing outliers: 0\n"
          ]
        }
      ]
    },
    {
      "cell_type": "markdown",
      "source": [
        "As you can see, it didn't appear to remove any outliers that exceeded the minimum and maximum values."
      ],
      "metadata": {
        "id": "UCwKGy6q_MC6"
      },
      "id": "UCwKGy6q_MC6"
    },
    {
      "cell_type": "markdown",
      "source": [
        "#Checking for Duplicates:"
      ],
      "metadata": {
        "id": "2EmvQ7SamC8p"
      },
      "id": "2EmvQ7SamC8p"
    },
    {
      "cell_type": "markdown",
      "metadata": {
        "id": "94867802"
      },
      "source": [
        "First, I will check for duplicates."
      ],
      "id": "94867802"
    },
    {
      "cell_type": "code",
      "execution_count": 9,
      "metadata": {
        "id": "08a49b8b",
        "colab": {
          "base_uri": "https://localhost:8080/"
        },
        "outputId": "f9080b55-46d6-4b01-e06d-2922de5336d5"
      },
      "outputs": [
        {
          "output_type": "stream",
          "name": "stdout",
          "text": [
            "Total number of duplicate rows: 0\n"
          ]
        }
      ],
      "source": [
        "dups = data.duplicated()\n",
        "print('Total number of duplicate rows: %d' % (dups.sum()))"
      ],
      "id": "08a49b8b"
    },
    {
      "cell_type": "markdown",
      "source": [
        "As you can see, there were no duplicates."
      ],
      "metadata": {
        "id": "sVLMvJ0mmGVC"
      },
      "id": "sVLMvJ0mmGVC"
    },
    {
      "cell_type": "markdown",
      "source": [
        "#Sampling:"
      ],
      "metadata": {
        "id": "44INXT5AmJwJ"
      },
      "id": "44INXT5AmJwJ"
    },
    {
      "cell_type": "markdown",
      "metadata": {
        "id": "403548fd"
      },
      "source": [
        "First, I will display the first five rows of data."
      ],
      "id": "403548fd"
    },
    {
      "cell_type": "code",
      "execution_count": 10,
      "metadata": {
        "id": "bcc7caa3",
        "colab": {
          "base_uri": "https://localhost:8080/",
          "height": 206
        },
        "outputId": "dedf4f7c-7c46-48f5-ff2d-e459e165ff70"
      },
      "outputs": [
        {
          "output_type": "execute_result",
          "data": {
            "text/plain": [
              "        id                 Name  est_diameter_min  est_diameter_max  \\\n",
              "0  2162635  162635 (2000 SS164)          1.198271          2.679415   \n",
              "1  2277475    277475 (2005 WK4)          0.265800          0.594347   \n",
              "2  2512244   512244 (2015 YE18)          0.722030          1.614507   \n",
              "3  3596030          (2012 BV13)          0.096506          0.215794   \n",
              "4  3667127          (2014 GE35)          0.255009          0.570217   \n",
              "\n",
              "   relative_velocity  miss_distance orbiting_body  sentry_object  \\\n",
              "0        13569.24922    54839744.08         Earth          False   \n",
              "1        73588.72666    61438126.52         Earth          False   \n",
              "2       114258.69210    49798724.94         Earth          False   \n",
              "3        24764.30314    25434972.72         Earth          False   \n",
              "4        42737.73376    46275567.00         Earth          False   \n",
              "\n",
              "   absolute_magnitude  hazardous  \n",
              "0               16.73      False  \n",
              "1               20.00       True  \n",
              "2               17.83      False  \n",
              "3               22.20      False  \n",
              "4               20.09       True  "
            ],
            "text/html": [
              "\n",
              "  <div id=\"df-0697105c-3c71-4921-b5e5-4bd1f46f8a39\">\n",
              "    <div class=\"colab-df-container\">\n",
              "      <div>\n",
              "<style scoped>\n",
              "    .dataframe tbody tr th:only-of-type {\n",
              "        vertical-align: middle;\n",
              "    }\n",
              "\n",
              "    .dataframe tbody tr th {\n",
              "        vertical-align: top;\n",
              "    }\n",
              "\n",
              "    .dataframe thead th {\n",
              "        text-align: right;\n",
              "    }\n",
              "</style>\n",
              "<table border=\"1\" class=\"dataframe\">\n",
              "  <thead>\n",
              "    <tr style=\"text-align: right;\">\n",
              "      <th></th>\n",
              "      <th>id</th>\n",
              "      <th>Name</th>\n",
              "      <th>est_diameter_min</th>\n",
              "      <th>est_diameter_max</th>\n",
              "      <th>relative_velocity</th>\n",
              "      <th>miss_distance</th>\n",
              "      <th>orbiting_body</th>\n",
              "      <th>sentry_object</th>\n",
              "      <th>absolute_magnitude</th>\n",
              "      <th>hazardous</th>\n",
              "    </tr>\n",
              "  </thead>\n",
              "  <tbody>\n",
              "    <tr>\n",
              "      <th>0</th>\n",
              "      <td>2162635</td>\n",
              "      <td>162635 (2000 SS164)</td>\n",
              "      <td>1.198271</td>\n",
              "      <td>2.679415</td>\n",
              "      <td>13569.24922</td>\n",
              "      <td>54839744.08</td>\n",
              "      <td>Earth</td>\n",
              "      <td>False</td>\n",
              "      <td>16.73</td>\n",
              "      <td>False</td>\n",
              "    </tr>\n",
              "    <tr>\n",
              "      <th>1</th>\n",
              "      <td>2277475</td>\n",
              "      <td>277475 (2005 WK4)</td>\n",
              "      <td>0.265800</td>\n",
              "      <td>0.594347</td>\n",
              "      <td>73588.72666</td>\n",
              "      <td>61438126.52</td>\n",
              "      <td>Earth</td>\n",
              "      <td>False</td>\n",
              "      <td>20.00</td>\n",
              "      <td>True</td>\n",
              "    </tr>\n",
              "    <tr>\n",
              "      <th>2</th>\n",
              "      <td>2512244</td>\n",
              "      <td>512244 (2015 YE18)</td>\n",
              "      <td>0.722030</td>\n",
              "      <td>1.614507</td>\n",
              "      <td>114258.69210</td>\n",
              "      <td>49798724.94</td>\n",
              "      <td>Earth</td>\n",
              "      <td>False</td>\n",
              "      <td>17.83</td>\n",
              "      <td>False</td>\n",
              "    </tr>\n",
              "    <tr>\n",
              "      <th>3</th>\n",
              "      <td>3596030</td>\n",
              "      <td>(2012 BV13)</td>\n",
              "      <td>0.096506</td>\n",
              "      <td>0.215794</td>\n",
              "      <td>24764.30314</td>\n",
              "      <td>25434972.72</td>\n",
              "      <td>Earth</td>\n",
              "      <td>False</td>\n",
              "      <td>22.20</td>\n",
              "      <td>False</td>\n",
              "    </tr>\n",
              "    <tr>\n",
              "      <th>4</th>\n",
              "      <td>3667127</td>\n",
              "      <td>(2014 GE35)</td>\n",
              "      <td>0.255009</td>\n",
              "      <td>0.570217</td>\n",
              "      <td>42737.73376</td>\n",
              "      <td>46275567.00</td>\n",
              "      <td>Earth</td>\n",
              "      <td>False</td>\n",
              "      <td>20.09</td>\n",
              "      <td>True</td>\n",
              "    </tr>\n",
              "  </tbody>\n",
              "</table>\n",
              "</div>\n",
              "      <button class=\"colab-df-convert\" onclick=\"convertToInteractive('df-0697105c-3c71-4921-b5e5-4bd1f46f8a39')\"\n",
              "              title=\"Convert this dataframe to an interactive table.\"\n",
              "              style=\"display:none;\">\n",
              "        \n",
              "  <svg xmlns=\"http://www.w3.org/2000/svg\" height=\"24px\"viewBox=\"0 0 24 24\"\n",
              "       width=\"24px\">\n",
              "    <path d=\"M0 0h24v24H0V0z\" fill=\"none\"/>\n",
              "    <path d=\"M18.56 5.44l.94 2.06.94-2.06 2.06-.94-2.06-.94-.94-2.06-.94 2.06-2.06.94zm-11 1L8.5 8.5l.94-2.06 2.06-.94-2.06-.94L8.5 2.5l-.94 2.06-2.06.94zm10 10l.94 2.06.94-2.06 2.06-.94-2.06-.94-.94-2.06-.94 2.06-2.06.94z\"/><path d=\"M17.41 7.96l-1.37-1.37c-.4-.4-.92-.59-1.43-.59-.52 0-1.04.2-1.43.59L10.3 9.45l-7.72 7.72c-.78.78-.78 2.05 0 2.83L4 21.41c.39.39.9.59 1.41.59.51 0 1.02-.2 1.41-.59l7.78-7.78 2.81-2.81c.8-.78.8-2.07 0-2.86zM5.41 20L4 18.59l7.72-7.72 1.47 1.35L5.41 20z\"/>\n",
              "  </svg>\n",
              "      </button>\n",
              "      \n",
              "  <style>\n",
              "    .colab-df-container {\n",
              "      display:flex;\n",
              "      flex-wrap:wrap;\n",
              "      gap: 12px;\n",
              "    }\n",
              "\n",
              "    .colab-df-convert {\n",
              "      background-color: #E8F0FE;\n",
              "      border: none;\n",
              "      border-radius: 50%;\n",
              "      cursor: pointer;\n",
              "      display: none;\n",
              "      fill: #1967D2;\n",
              "      height: 32px;\n",
              "      padding: 0 0 0 0;\n",
              "      width: 32px;\n",
              "    }\n",
              "\n",
              "    .colab-df-convert:hover {\n",
              "      background-color: #E2EBFA;\n",
              "      box-shadow: 0px 1px 2px rgba(60, 64, 67, 0.3), 0px 1px 3px 1px rgba(60, 64, 67, 0.15);\n",
              "      fill: #174EA6;\n",
              "    }\n",
              "\n",
              "    [theme=dark] .colab-df-convert {\n",
              "      background-color: #3B4455;\n",
              "      fill: #D2E3FC;\n",
              "    }\n",
              "\n",
              "    [theme=dark] .colab-df-convert:hover {\n",
              "      background-color: #434B5C;\n",
              "      box-shadow: 0px 1px 3px 1px rgba(0, 0, 0, 0.15);\n",
              "      filter: drop-shadow(0px 1px 2px rgba(0, 0, 0, 0.3));\n",
              "      fill: #FFFFFF;\n",
              "    }\n",
              "  </style>\n",
              "\n",
              "      <script>\n",
              "        const buttonEl =\n",
              "          document.querySelector('#df-0697105c-3c71-4921-b5e5-4bd1f46f8a39 button.colab-df-convert');\n",
              "        buttonEl.style.display =\n",
              "          google.colab.kernel.accessAllowed ? 'block' : 'none';\n",
              "\n",
              "        async function convertToInteractive(key) {\n",
              "          const element = document.querySelector('#df-0697105c-3c71-4921-b5e5-4bd1f46f8a39');\n",
              "          const dataTable =\n",
              "            await google.colab.kernel.invokeFunction('convertToInteractive',\n",
              "                                                     [key], {});\n",
              "          if (!dataTable) return;\n",
              "\n",
              "          const docLinkHtml = 'Like what you see? Visit the ' +\n",
              "            '<a target=\"_blank\" href=https://colab.research.google.com/notebooks/data_table.ipynb>data table notebook</a>'\n",
              "            + ' to learn more about interactive tables.';\n",
              "          element.innerHTML = '';\n",
              "          dataTable['output_type'] = 'display_data';\n",
              "          await google.colab.output.renderOutput(dataTable, element);\n",
              "          const docLink = document.createElement('div');\n",
              "          docLink.innerHTML = docLinkHtml;\n",
              "          element.appendChild(docLink);\n",
              "        }\n",
              "      </script>\n",
              "    </div>\n",
              "  </div>\n",
              "  "
            ]
          },
          "metadata": {},
          "execution_count": 10
        }
      ],
      "source": [
        "data.head()"
      ],
      "id": "bcc7caa3"
    },
    {
      "cell_type": "markdown",
      "metadata": {
        "id": "cd99b90d"
      },
      "source": [
        "Next, I will sample the data randomly choosing three rows."
      ],
      "id": "cd99b90d"
    },
    {
      "cell_type": "code",
      "execution_count": 11,
      "metadata": {
        "id": "1b309b7f",
        "colab": {
          "base_uri": "https://localhost:8080/",
          "height": 143
        },
        "outputId": "3b1ad51b-dab7-4333-d224-100fe843e59d"
      },
      "outputs": [
        {
          "output_type": "execute_result",
          "data": {
            "text/plain": [
              "            id         Name  est_diameter_min  est_diameter_max  \\\n",
              "50805  3789602  (2017 WS12)          0.060891          0.136157   \n",
              "59388  3644703    (2013 NU)          0.146068          0.326618   \n",
              "45162  3840759    (2019 GE)          0.012722          0.028447   \n",
              "\n",
              "       relative_velocity  miss_distance orbiting_body  sentry_object  \\\n",
              "50805        19315.80729    24327700.46         Earth          False   \n",
              "59388        14707.63509    55363161.96         Earth          False   \n",
              "45162        72083.07650    46517669.33         Earth          False   \n",
              "\n",
              "       absolute_magnitude  hazardous  \n",
              "50805                23.2      False  \n",
              "59388                21.3      False  \n",
              "45162                26.6      False  "
            ],
            "text/html": [
              "\n",
              "  <div id=\"df-be83bdfa-860e-4e3c-b262-ad63f785e923\">\n",
              "    <div class=\"colab-df-container\">\n",
              "      <div>\n",
              "<style scoped>\n",
              "    .dataframe tbody tr th:only-of-type {\n",
              "        vertical-align: middle;\n",
              "    }\n",
              "\n",
              "    .dataframe tbody tr th {\n",
              "        vertical-align: top;\n",
              "    }\n",
              "\n",
              "    .dataframe thead th {\n",
              "        text-align: right;\n",
              "    }\n",
              "</style>\n",
              "<table border=\"1\" class=\"dataframe\">\n",
              "  <thead>\n",
              "    <tr style=\"text-align: right;\">\n",
              "      <th></th>\n",
              "      <th>id</th>\n",
              "      <th>Name</th>\n",
              "      <th>est_diameter_min</th>\n",
              "      <th>est_diameter_max</th>\n",
              "      <th>relative_velocity</th>\n",
              "      <th>miss_distance</th>\n",
              "      <th>orbiting_body</th>\n",
              "      <th>sentry_object</th>\n",
              "      <th>absolute_magnitude</th>\n",
              "      <th>hazardous</th>\n",
              "    </tr>\n",
              "  </thead>\n",
              "  <tbody>\n",
              "    <tr>\n",
              "      <th>50805</th>\n",
              "      <td>3789602</td>\n",
              "      <td>(2017 WS12)</td>\n",
              "      <td>0.060891</td>\n",
              "      <td>0.136157</td>\n",
              "      <td>19315.80729</td>\n",
              "      <td>24327700.46</td>\n",
              "      <td>Earth</td>\n",
              "      <td>False</td>\n",
              "      <td>23.2</td>\n",
              "      <td>False</td>\n",
              "    </tr>\n",
              "    <tr>\n",
              "      <th>59388</th>\n",
              "      <td>3644703</td>\n",
              "      <td>(2013 NU)</td>\n",
              "      <td>0.146068</td>\n",
              "      <td>0.326618</td>\n",
              "      <td>14707.63509</td>\n",
              "      <td>55363161.96</td>\n",
              "      <td>Earth</td>\n",
              "      <td>False</td>\n",
              "      <td>21.3</td>\n",
              "      <td>False</td>\n",
              "    </tr>\n",
              "    <tr>\n",
              "      <th>45162</th>\n",
              "      <td>3840759</td>\n",
              "      <td>(2019 GE)</td>\n",
              "      <td>0.012722</td>\n",
              "      <td>0.028447</td>\n",
              "      <td>72083.07650</td>\n",
              "      <td>46517669.33</td>\n",
              "      <td>Earth</td>\n",
              "      <td>False</td>\n",
              "      <td>26.6</td>\n",
              "      <td>False</td>\n",
              "    </tr>\n",
              "  </tbody>\n",
              "</table>\n",
              "</div>\n",
              "      <button class=\"colab-df-convert\" onclick=\"convertToInteractive('df-be83bdfa-860e-4e3c-b262-ad63f785e923')\"\n",
              "              title=\"Convert this dataframe to an interactive table.\"\n",
              "              style=\"display:none;\">\n",
              "        \n",
              "  <svg xmlns=\"http://www.w3.org/2000/svg\" height=\"24px\"viewBox=\"0 0 24 24\"\n",
              "       width=\"24px\">\n",
              "    <path d=\"M0 0h24v24H0V0z\" fill=\"none\"/>\n",
              "    <path d=\"M18.56 5.44l.94 2.06.94-2.06 2.06-.94-2.06-.94-.94-2.06-.94 2.06-2.06.94zm-11 1L8.5 8.5l.94-2.06 2.06-.94-2.06-.94L8.5 2.5l-.94 2.06-2.06.94zm10 10l.94 2.06.94-2.06 2.06-.94-2.06-.94-.94-2.06-.94 2.06-2.06.94z\"/><path d=\"M17.41 7.96l-1.37-1.37c-.4-.4-.92-.59-1.43-.59-.52 0-1.04.2-1.43.59L10.3 9.45l-7.72 7.72c-.78.78-.78 2.05 0 2.83L4 21.41c.39.39.9.59 1.41.59.51 0 1.02-.2 1.41-.59l7.78-7.78 2.81-2.81c.8-.78.8-2.07 0-2.86zM5.41 20L4 18.59l7.72-7.72 1.47 1.35L5.41 20z\"/>\n",
              "  </svg>\n",
              "      </button>\n",
              "      \n",
              "  <style>\n",
              "    .colab-df-container {\n",
              "      display:flex;\n",
              "      flex-wrap:wrap;\n",
              "      gap: 12px;\n",
              "    }\n",
              "\n",
              "    .colab-df-convert {\n",
              "      background-color: #E8F0FE;\n",
              "      border: none;\n",
              "      border-radius: 50%;\n",
              "      cursor: pointer;\n",
              "      display: none;\n",
              "      fill: #1967D2;\n",
              "      height: 32px;\n",
              "      padding: 0 0 0 0;\n",
              "      width: 32px;\n",
              "    }\n",
              "\n",
              "    .colab-df-convert:hover {\n",
              "      background-color: #E2EBFA;\n",
              "      box-shadow: 0px 1px 2px rgba(60, 64, 67, 0.3), 0px 1px 3px 1px rgba(60, 64, 67, 0.15);\n",
              "      fill: #174EA6;\n",
              "    }\n",
              "\n",
              "    [theme=dark] .colab-df-convert {\n",
              "      background-color: #3B4455;\n",
              "      fill: #D2E3FC;\n",
              "    }\n",
              "\n",
              "    [theme=dark] .colab-df-convert:hover {\n",
              "      background-color: #434B5C;\n",
              "      box-shadow: 0px 1px 3px 1px rgba(0, 0, 0, 0.15);\n",
              "      filter: drop-shadow(0px 1px 2px rgba(0, 0, 0, 0.3));\n",
              "      fill: #FFFFFF;\n",
              "    }\n",
              "  </style>\n",
              "\n",
              "      <script>\n",
              "        const buttonEl =\n",
              "          document.querySelector('#df-be83bdfa-860e-4e3c-b262-ad63f785e923 button.colab-df-convert');\n",
              "        buttonEl.style.display =\n",
              "          google.colab.kernel.accessAllowed ? 'block' : 'none';\n",
              "\n",
              "        async function convertToInteractive(key) {\n",
              "          const element = document.querySelector('#df-be83bdfa-860e-4e3c-b262-ad63f785e923');\n",
              "          const dataTable =\n",
              "            await google.colab.kernel.invokeFunction('convertToInteractive',\n",
              "                                                     [key], {});\n",
              "          if (!dataTable) return;\n",
              "\n",
              "          const docLinkHtml = 'Like what you see? Visit the ' +\n",
              "            '<a target=\"_blank\" href=https://colab.research.google.com/notebooks/data_table.ipynb>data table notebook</a>'\n",
              "            + ' to learn more about interactive tables.';\n",
              "          element.innerHTML = '';\n",
              "          dataTable['output_type'] = 'display_data';\n",
              "          await google.colab.output.renderOutput(dataTable, element);\n",
              "          const docLink = document.createElement('div');\n",
              "          docLink.innerHTML = docLinkHtml;\n",
              "          element.appendChild(docLink);\n",
              "        }\n",
              "      </script>\n",
              "    </div>\n",
              "  </div>\n",
              "  "
            ]
          },
          "metadata": {},
          "execution_count": 11
        }
      ],
      "source": [
        "sample = data.sample(n=3)\n",
        "sample"
      ],
      "id": "1b309b7f"
    },
    {
      "cell_type": "markdown",
      "metadata": {
        "id": "285fbc71"
      },
      "source": [
        "Next, I will sample the data at one percent without replacement."
      ],
      "id": "285fbc71"
    },
    {
      "cell_type": "code",
      "execution_count": 12,
      "metadata": {
        "id": "3550c71a",
        "colab": {
          "base_uri": "https://localhost:8080/",
          "height": 423
        },
        "outputId": "26ae5c78-27dc-4735-9a43-a1be26dbaad8"
      },
      "outputs": [
        {
          "output_type": "execute_result",
          "data": {
            "text/plain": [
              "            id                 Name  est_diameter_min  est_diameter_max  \\\n",
              "12801  3663258            (2014 EL)          0.010582          0.023661   \n",
              "55325  3831894           (2018 UH1)          0.025384          0.056760   \n",
              "2647   3552664           (2010 WC9)          0.053034          0.118588   \n",
              "48068  3843919           (2019 SU1)          0.005553          0.012418   \n",
              "41662  2511684  511684 (2015 BN509)          0.183044          0.409298   \n",
              "...        ...                  ...               ...               ...   \n",
              "12936  3515380          (2010 GL23)          0.073207          0.163697   \n",
              "10437  3394754         (2007 VF189)          0.005815          0.013003   \n",
              "8074   3703074          (2014 YT15)          0.009651          0.021579   \n",
              "54568  3719245            (2015 KF)          0.025384          0.056760   \n",
              "85095  3448109          (2009 DB12)          0.139494          0.311918   \n",
              "\n",
              "       relative_velocity  miss_distance orbiting_body  sentry_object  \\\n",
              "12801        67869.92523   3.379682e+07         Earth          False   \n",
              "55325        46806.04991   2.042376e+06         Earth          False   \n",
              "2647         73992.58886   4.700788e+07         Earth          False   \n",
              "48068        10954.65422   2.392963e+07         Earth          False   \n",
              "41662        96979.03827   4.103778e+07         Earth          False   \n",
              "...                  ...            ...           ...            ...   \n",
              "12936        52851.13755   2.201863e+07         Earth          False   \n",
              "10437        30272.62582   6.758285e+07         Earth          False   \n",
              "8074         15404.67801   3.976412e+07         Earth          False   \n",
              "54568        33467.42420   3.121676e+07         Earth          False   \n",
              "85095        91909.05500   5.509055e+07         Earth          False   \n",
              "\n",
              "       absolute_magnitude  hazardous  \n",
              "12801               27.00      False  \n",
              "55325               25.10      False  \n",
              "2647                23.50      False  \n",
              "48068               28.40      False  \n",
              "41662               20.81       True  \n",
              "...                   ...        ...  \n",
              "12936               22.80      False  \n",
              "10437               28.30      False  \n",
              "8074                27.20      False  \n",
              "54568               25.10      False  \n",
              "85095               21.40      False  \n",
              "\n",
              "[908 rows x 10 columns]"
            ],
            "text/html": [
              "\n",
              "  <div id=\"df-38aad860-2cef-4281-b689-84015ae3fc3c\">\n",
              "    <div class=\"colab-df-container\">\n",
              "      <div>\n",
              "<style scoped>\n",
              "    .dataframe tbody tr th:only-of-type {\n",
              "        vertical-align: middle;\n",
              "    }\n",
              "\n",
              "    .dataframe tbody tr th {\n",
              "        vertical-align: top;\n",
              "    }\n",
              "\n",
              "    .dataframe thead th {\n",
              "        text-align: right;\n",
              "    }\n",
              "</style>\n",
              "<table border=\"1\" class=\"dataframe\">\n",
              "  <thead>\n",
              "    <tr style=\"text-align: right;\">\n",
              "      <th></th>\n",
              "      <th>id</th>\n",
              "      <th>Name</th>\n",
              "      <th>est_diameter_min</th>\n",
              "      <th>est_diameter_max</th>\n",
              "      <th>relative_velocity</th>\n",
              "      <th>miss_distance</th>\n",
              "      <th>orbiting_body</th>\n",
              "      <th>sentry_object</th>\n",
              "      <th>absolute_magnitude</th>\n",
              "      <th>hazardous</th>\n",
              "    </tr>\n",
              "  </thead>\n",
              "  <tbody>\n",
              "    <tr>\n",
              "      <th>12801</th>\n",
              "      <td>3663258</td>\n",
              "      <td>(2014 EL)</td>\n",
              "      <td>0.010582</td>\n",
              "      <td>0.023661</td>\n",
              "      <td>67869.92523</td>\n",
              "      <td>3.379682e+07</td>\n",
              "      <td>Earth</td>\n",
              "      <td>False</td>\n",
              "      <td>27.00</td>\n",
              "      <td>False</td>\n",
              "    </tr>\n",
              "    <tr>\n",
              "      <th>55325</th>\n",
              "      <td>3831894</td>\n",
              "      <td>(2018 UH1)</td>\n",
              "      <td>0.025384</td>\n",
              "      <td>0.056760</td>\n",
              "      <td>46806.04991</td>\n",
              "      <td>2.042376e+06</td>\n",
              "      <td>Earth</td>\n",
              "      <td>False</td>\n",
              "      <td>25.10</td>\n",
              "      <td>False</td>\n",
              "    </tr>\n",
              "    <tr>\n",
              "      <th>2647</th>\n",
              "      <td>3552664</td>\n",
              "      <td>(2010 WC9)</td>\n",
              "      <td>0.053034</td>\n",
              "      <td>0.118588</td>\n",
              "      <td>73992.58886</td>\n",
              "      <td>4.700788e+07</td>\n",
              "      <td>Earth</td>\n",
              "      <td>False</td>\n",
              "      <td>23.50</td>\n",
              "      <td>False</td>\n",
              "    </tr>\n",
              "    <tr>\n",
              "      <th>48068</th>\n",
              "      <td>3843919</td>\n",
              "      <td>(2019 SU1)</td>\n",
              "      <td>0.005553</td>\n",
              "      <td>0.012418</td>\n",
              "      <td>10954.65422</td>\n",
              "      <td>2.392963e+07</td>\n",
              "      <td>Earth</td>\n",
              "      <td>False</td>\n",
              "      <td>28.40</td>\n",
              "      <td>False</td>\n",
              "    </tr>\n",
              "    <tr>\n",
              "      <th>41662</th>\n",
              "      <td>2511684</td>\n",
              "      <td>511684 (2015 BN509)</td>\n",
              "      <td>0.183044</td>\n",
              "      <td>0.409298</td>\n",
              "      <td>96979.03827</td>\n",
              "      <td>4.103778e+07</td>\n",
              "      <td>Earth</td>\n",
              "      <td>False</td>\n",
              "      <td>20.81</td>\n",
              "      <td>True</td>\n",
              "    </tr>\n",
              "    <tr>\n",
              "      <th>...</th>\n",
              "      <td>...</td>\n",
              "      <td>...</td>\n",
              "      <td>...</td>\n",
              "      <td>...</td>\n",
              "      <td>...</td>\n",
              "      <td>...</td>\n",
              "      <td>...</td>\n",
              "      <td>...</td>\n",
              "      <td>...</td>\n",
              "      <td>...</td>\n",
              "    </tr>\n",
              "    <tr>\n",
              "      <th>12936</th>\n",
              "      <td>3515380</td>\n",
              "      <td>(2010 GL23)</td>\n",
              "      <td>0.073207</td>\n",
              "      <td>0.163697</td>\n",
              "      <td>52851.13755</td>\n",
              "      <td>2.201863e+07</td>\n",
              "      <td>Earth</td>\n",
              "      <td>False</td>\n",
              "      <td>22.80</td>\n",
              "      <td>False</td>\n",
              "    </tr>\n",
              "    <tr>\n",
              "      <th>10437</th>\n",
              "      <td>3394754</td>\n",
              "      <td>(2007 VF189)</td>\n",
              "      <td>0.005815</td>\n",
              "      <td>0.013003</td>\n",
              "      <td>30272.62582</td>\n",
              "      <td>6.758285e+07</td>\n",
              "      <td>Earth</td>\n",
              "      <td>False</td>\n",
              "      <td>28.30</td>\n",
              "      <td>False</td>\n",
              "    </tr>\n",
              "    <tr>\n",
              "      <th>8074</th>\n",
              "      <td>3703074</td>\n",
              "      <td>(2014 YT15)</td>\n",
              "      <td>0.009651</td>\n",
              "      <td>0.021579</td>\n",
              "      <td>15404.67801</td>\n",
              "      <td>3.976412e+07</td>\n",
              "      <td>Earth</td>\n",
              "      <td>False</td>\n",
              "      <td>27.20</td>\n",
              "      <td>False</td>\n",
              "    </tr>\n",
              "    <tr>\n",
              "      <th>54568</th>\n",
              "      <td>3719245</td>\n",
              "      <td>(2015 KF)</td>\n",
              "      <td>0.025384</td>\n",
              "      <td>0.056760</td>\n",
              "      <td>33467.42420</td>\n",
              "      <td>3.121676e+07</td>\n",
              "      <td>Earth</td>\n",
              "      <td>False</td>\n",
              "      <td>25.10</td>\n",
              "      <td>False</td>\n",
              "    </tr>\n",
              "    <tr>\n",
              "      <th>85095</th>\n",
              "      <td>3448109</td>\n",
              "      <td>(2009 DB12)</td>\n",
              "      <td>0.139494</td>\n",
              "      <td>0.311918</td>\n",
              "      <td>91909.05500</td>\n",
              "      <td>5.509055e+07</td>\n",
              "      <td>Earth</td>\n",
              "      <td>False</td>\n",
              "      <td>21.40</td>\n",
              "      <td>False</td>\n",
              "    </tr>\n",
              "  </tbody>\n",
              "</table>\n",
              "<p>908 rows × 10 columns</p>\n",
              "</div>\n",
              "      <button class=\"colab-df-convert\" onclick=\"convertToInteractive('df-38aad860-2cef-4281-b689-84015ae3fc3c')\"\n",
              "              title=\"Convert this dataframe to an interactive table.\"\n",
              "              style=\"display:none;\">\n",
              "        \n",
              "  <svg xmlns=\"http://www.w3.org/2000/svg\" height=\"24px\"viewBox=\"0 0 24 24\"\n",
              "       width=\"24px\">\n",
              "    <path d=\"M0 0h24v24H0V0z\" fill=\"none\"/>\n",
              "    <path d=\"M18.56 5.44l.94 2.06.94-2.06 2.06-.94-2.06-.94-.94-2.06-.94 2.06-2.06.94zm-11 1L8.5 8.5l.94-2.06 2.06-.94-2.06-.94L8.5 2.5l-.94 2.06-2.06.94zm10 10l.94 2.06.94-2.06 2.06-.94-2.06-.94-.94-2.06-.94 2.06-2.06.94z\"/><path d=\"M17.41 7.96l-1.37-1.37c-.4-.4-.92-.59-1.43-.59-.52 0-1.04.2-1.43.59L10.3 9.45l-7.72 7.72c-.78.78-.78 2.05 0 2.83L4 21.41c.39.39.9.59 1.41.59.51 0 1.02-.2 1.41-.59l7.78-7.78 2.81-2.81c.8-.78.8-2.07 0-2.86zM5.41 20L4 18.59l7.72-7.72 1.47 1.35L5.41 20z\"/>\n",
              "  </svg>\n",
              "      </button>\n",
              "      \n",
              "  <style>\n",
              "    .colab-df-container {\n",
              "      display:flex;\n",
              "      flex-wrap:wrap;\n",
              "      gap: 12px;\n",
              "    }\n",
              "\n",
              "    .colab-df-convert {\n",
              "      background-color: #E8F0FE;\n",
              "      border: none;\n",
              "      border-radius: 50%;\n",
              "      cursor: pointer;\n",
              "      display: none;\n",
              "      fill: #1967D2;\n",
              "      height: 32px;\n",
              "      padding: 0 0 0 0;\n",
              "      width: 32px;\n",
              "    }\n",
              "\n",
              "    .colab-df-convert:hover {\n",
              "      background-color: #E2EBFA;\n",
              "      box-shadow: 0px 1px 2px rgba(60, 64, 67, 0.3), 0px 1px 3px 1px rgba(60, 64, 67, 0.15);\n",
              "      fill: #174EA6;\n",
              "    }\n",
              "\n",
              "    [theme=dark] .colab-df-convert {\n",
              "      background-color: #3B4455;\n",
              "      fill: #D2E3FC;\n",
              "    }\n",
              "\n",
              "    [theme=dark] .colab-df-convert:hover {\n",
              "      background-color: #434B5C;\n",
              "      box-shadow: 0px 1px 3px 1px rgba(0, 0, 0, 0.15);\n",
              "      filter: drop-shadow(0px 1px 2px rgba(0, 0, 0, 0.3));\n",
              "      fill: #FFFFFF;\n",
              "    }\n",
              "  </style>\n",
              "\n",
              "      <script>\n",
              "        const buttonEl =\n",
              "          document.querySelector('#df-38aad860-2cef-4281-b689-84015ae3fc3c button.colab-df-convert');\n",
              "        buttonEl.style.display =\n",
              "          google.colab.kernel.accessAllowed ? 'block' : 'none';\n",
              "\n",
              "        async function convertToInteractive(key) {\n",
              "          const element = document.querySelector('#df-38aad860-2cef-4281-b689-84015ae3fc3c');\n",
              "          const dataTable =\n",
              "            await google.colab.kernel.invokeFunction('convertToInteractive',\n",
              "                                                     [key], {});\n",
              "          if (!dataTable) return;\n",
              "\n",
              "          const docLinkHtml = 'Like what you see? Visit the ' +\n",
              "            '<a target=\"_blank\" href=https://colab.research.google.com/notebooks/data_table.ipynb>data table notebook</a>'\n",
              "            + ' to learn more about interactive tables.';\n",
              "          element.innerHTML = '';\n",
              "          dataTable['output_type'] = 'display_data';\n",
              "          await google.colab.output.renderOutput(dataTable, element);\n",
              "          const docLink = document.createElement('div');\n",
              "          docLink.innerHTML = docLinkHtml;\n",
              "          element.appendChild(docLink);\n",
              "        }\n",
              "      </script>\n",
              "    </div>\n",
              "  </div>\n",
              "  "
            ]
          },
          "metadata": {},
          "execution_count": 12
        }
      ],
      "source": [
        "sample = data.sample(frac=0.01, random_state=1)\n",
        "sample\n"
      ],
      "id": "3550c71a"
    },
    {
      "cell_type": "markdown",
      "metadata": {
        "id": "1e0fd562"
      },
      "source": [
        "Next, I will sample the data at one percent with replacement to evaluate the results."
      ],
      "id": "1e0fd562"
    },
    {
      "cell_type": "code",
      "execution_count": 13,
      "metadata": {
        "id": "6cffc969",
        "colab": {
          "base_uri": "https://localhost:8080/",
          "height": 423
        },
        "outputId": "1198f67e-b9b2-48ca-c289-6ec87bedd31c"
      },
      "outputs": [
        {
          "output_type": "execute_result",
          "data": {
            "text/plain": [
              "             id               Name  est_diameter_min  est_diameter_max  \\\n",
              "77708   3878564         (2019 TP1)          0.160160          0.358129   \n",
              "5192    3758270        (2016 QE45)          0.117099          0.261842   \n",
              "50057   3781911        (2017 SL17)          0.105817          0.236614   \n",
              "73349  54114207         (2021 CE5)          0.021113          0.047211   \n",
              "21440   3471585          (2009 UC)          0.012722          0.028447   \n",
              "...         ...                ...               ...               ...   \n",
              "32293   3704767        (2015 BE92)          0.006376          0.014257   \n",
              "70831   2455199  455199 (2000 YK4)          0.291444          0.651688   \n",
              "27988   3465283         (2009 OY7)          0.029144          0.065169   \n",
              "28431  54196397        (2021 RG14)          0.046404          0.103762   \n",
              "65985  54136479         (2021 GL7)          0.042126          0.094198   \n",
              "\n",
              "       relative_velocity  miss_distance orbiting_body  sentry_object  \\\n",
              "77708        84840.24857   7.194800e+07         Earth          False   \n",
              "5192         58978.62703   2.326581e+06         Earth          False   \n",
              "50057        51161.60720   1.619446e+07         Earth          False   \n",
              "73349        55483.58092   1.806974e+07         Earth          False   \n",
              "21440        48802.95901   9.377322e+06         Earth          False   \n",
              "...                  ...            ...           ...            ...   \n",
              "32293        72451.27247   6.887751e+07         Earth          False   \n",
              "70831        48766.26520   5.859091e+07         Earth          False   \n",
              "27988        55905.74198   5.448388e+06         Earth          False   \n",
              "28431        17019.39089   7.271360e+07         Earth          False   \n",
              "65985        86574.85469   3.326976e+07         Earth          False   \n",
              "\n",
              "       absolute_magnitude  hazardous  \n",
              "77708               21.10       True  \n",
              "5192                21.78       True  \n",
              "50057               22.00       True  \n",
              "73349               25.50      False  \n",
              "21440               26.60      False  \n",
              "...                   ...        ...  \n",
              "32293               28.10      False  \n",
              "70831               19.80      False  \n",
              "27988               24.80      False  \n",
              "28431               23.79      False  \n",
              "65985               24.00      False  \n",
              "\n",
              "[908 rows x 10 columns]"
            ],
            "text/html": [
              "\n",
              "  <div id=\"df-aa59ce3f-14d4-45a2-ac41-57fe994e2003\">\n",
              "    <div class=\"colab-df-container\">\n",
              "      <div>\n",
              "<style scoped>\n",
              "    .dataframe tbody tr th:only-of-type {\n",
              "        vertical-align: middle;\n",
              "    }\n",
              "\n",
              "    .dataframe tbody tr th {\n",
              "        vertical-align: top;\n",
              "    }\n",
              "\n",
              "    .dataframe thead th {\n",
              "        text-align: right;\n",
              "    }\n",
              "</style>\n",
              "<table border=\"1\" class=\"dataframe\">\n",
              "  <thead>\n",
              "    <tr style=\"text-align: right;\">\n",
              "      <th></th>\n",
              "      <th>id</th>\n",
              "      <th>Name</th>\n",
              "      <th>est_diameter_min</th>\n",
              "      <th>est_diameter_max</th>\n",
              "      <th>relative_velocity</th>\n",
              "      <th>miss_distance</th>\n",
              "      <th>orbiting_body</th>\n",
              "      <th>sentry_object</th>\n",
              "      <th>absolute_magnitude</th>\n",
              "      <th>hazardous</th>\n",
              "    </tr>\n",
              "  </thead>\n",
              "  <tbody>\n",
              "    <tr>\n",
              "      <th>77708</th>\n",
              "      <td>3878564</td>\n",
              "      <td>(2019 TP1)</td>\n",
              "      <td>0.160160</td>\n",
              "      <td>0.358129</td>\n",
              "      <td>84840.24857</td>\n",
              "      <td>7.194800e+07</td>\n",
              "      <td>Earth</td>\n",
              "      <td>False</td>\n",
              "      <td>21.10</td>\n",
              "      <td>True</td>\n",
              "    </tr>\n",
              "    <tr>\n",
              "      <th>5192</th>\n",
              "      <td>3758270</td>\n",
              "      <td>(2016 QE45)</td>\n",
              "      <td>0.117099</td>\n",
              "      <td>0.261842</td>\n",
              "      <td>58978.62703</td>\n",
              "      <td>2.326581e+06</td>\n",
              "      <td>Earth</td>\n",
              "      <td>False</td>\n",
              "      <td>21.78</td>\n",
              "      <td>True</td>\n",
              "    </tr>\n",
              "    <tr>\n",
              "      <th>50057</th>\n",
              "      <td>3781911</td>\n",
              "      <td>(2017 SL17)</td>\n",
              "      <td>0.105817</td>\n",
              "      <td>0.236614</td>\n",
              "      <td>51161.60720</td>\n",
              "      <td>1.619446e+07</td>\n",
              "      <td>Earth</td>\n",
              "      <td>False</td>\n",
              "      <td>22.00</td>\n",
              "      <td>True</td>\n",
              "    </tr>\n",
              "    <tr>\n",
              "      <th>73349</th>\n",
              "      <td>54114207</td>\n",
              "      <td>(2021 CE5)</td>\n",
              "      <td>0.021113</td>\n",
              "      <td>0.047211</td>\n",
              "      <td>55483.58092</td>\n",
              "      <td>1.806974e+07</td>\n",
              "      <td>Earth</td>\n",
              "      <td>False</td>\n",
              "      <td>25.50</td>\n",
              "      <td>False</td>\n",
              "    </tr>\n",
              "    <tr>\n",
              "      <th>21440</th>\n",
              "      <td>3471585</td>\n",
              "      <td>(2009 UC)</td>\n",
              "      <td>0.012722</td>\n",
              "      <td>0.028447</td>\n",
              "      <td>48802.95901</td>\n",
              "      <td>9.377322e+06</td>\n",
              "      <td>Earth</td>\n",
              "      <td>False</td>\n",
              "      <td>26.60</td>\n",
              "      <td>False</td>\n",
              "    </tr>\n",
              "    <tr>\n",
              "      <th>...</th>\n",
              "      <td>...</td>\n",
              "      <td>...</td>\n",
              "      <td>...</td>\n",
              "      <td>...</td>\n",
              "      <td>...</td>\n",
              "      <td>...</td>\n",
              "      <td>...</td>\n",
              "      <td>...</td>\n",
              "      <td>...</td>\n",
              "      <td>...</td>\n",
              "    </tr>\n",
              "    <tr>\n",
              "      <th>32293</th>\n",
              "      <td>3704767</td>\n",
              "      <td>(2015 BE92)</td>\n",
              "      <td>0.006376</td>\n",
              "      <td>0.014257</td>\n",
              "      <td>72451.27247</td>\n",
              "      <td>6.887751e+07</td>\n",
              "      <td>Earth</td>\n",
              "      <td>False</td>\n",
              "      <td>28.10</td>\n",
              "      <td>False</td>\n",
              "    </tr>\n",
              "    <tr>\n",
              "      <th>70831</th>\n",
              "      <td>2455199</td>\n",
              "      <td>455199 (2000 YK4)</td>\n",
              "      <td>0.291444</td>\n",
              "      <td>0.651688</td>\n",
              "      <td>48766.26520</td>\n",
              "      <td>5.859091e+07</td>\n",
              "      <td>Earth</td>\n",
              "      <td>False</td>\n",
              "      <td>19.80</td>\n",
              "      <td>False</td>\n",
              "    </tr>\n",
              "    <tr>\n",
              "      <th>27988</th>\n",
              "      <td>3465283</td>\n",
              "      <td>(2009 OY7)</td>\n",
              "      <td>0.029144</td>\n",
              "      <td>0.065169</td>\n",
              "      <td>55905.74198</td>\n",
              "      <td>5.448388e+06</td>\n",
              "      <td>Earth</td>\n",
              "      <td>False</td>\n",
              "      <td>24.80</td>\n",
              "      <td>False</td>\n",
              "    </tr>\n",
              "    <tr>\n",
              "      <th>28431</th>\n",
              "      <td>54196397</td>\n",
              "      <td>(2021 RG14)</td>\n",
              "      <td>0.046404</td>\n",
              "      <td>0.103762</td>\n",
              "      <td>17019.39089</td>\n",
              "      <td>7.271360e+07</td>\n",
              "      <td>Earth</td>\n",
              "      <td>False</td>\n",
              "      <td>23.79</td>\n",
              "      <td>False</td>\n",
              "    </tr>\n",
              "    <tr>\n",
              "      <th>65985</th>\n",
              "      <td>54136479</td>\n",
              "      <td>(2021 GL7)</td>\n",
              "      <td>0.042126</td>\n",
              "      <td>0.094198</td>\n",
              "      <td>86574.85469</td>\n",
              "      <td>3.326976e+07</td>\n",
              "      <td>Earth</td>\n",
              "      <td>False</td>\n",
              "      <td>24.00</td>\n",
              "      <td>False</td>\n",
              "    </tr>\n",
              "  </tbody>\n",
              "</table>\n",
              "<p>908 rows × 10 columns</p>\n",
              "</div>\n",
              "      <button class=\"colab-df-convert\" onclick=\"convertToInteractive('df-aa59ce3f-14d4-45a2-ac41-57fe994e2003')\"\n",
              "              title=\"Convert this dataframe to an interactive table.\"\n",
              "              style=\"display:none;\">\n",
              "        \n",
              "  <svg xmlns=\"http://www.w3.org/2000/svg\" height=\"24px\"viewBox=\"0 0 24 24\"\n",
              "       width=\"24px\">\n",
              "    <path d=\"M0 0h24v24H0V0z\" fill=\"none\"/>\n",
              "    <path d=\"M18.56 5.44l.94 2.06.94-2.06 2.06-.94-2.06-.94-.94-2.06-.94 2.06-2.06.94zm-11 1L8.5 8.5l.94-2.06 2.06-.94-2.06-.94L8.5 2.5l-.94 2.06-2.06.94zm10 10l.94 2.06.94-2.06 2.06-.94-2.06-.94-.94-2.06-.94 2.06-2.06.94z\"/><path d=\"M17.41 7.96l-1.37-1.37c-.4-.4-.92-.59-1.43-.59-.52 0-1.04.2-1.43.59L10.3 9.45l-7.72 7.72c-.78.78-.78 2.05 0 2.83L4 21.41c.39.39.9.59 1.41.59.51 0 1.02-.2 1.41-.59l7.78-7.78 2.81-2.81c.8-.78.8-2.07 0-2.86zM5.41 20L4 18.59l7.72-7.72 1.47 1.35L5.41 20z\"/>\n",
              "  </svg>\n",
              "      </button>\n",
              "      \n",
              "  <style>\n",
              "    .colab-df-container {\n",
              "      display:flex;\n",
              "      flex-wrap:wrap;\n",
              "      gap: 12px;\n",
              "    }\n",
              "\n",
              "    .colab-df-convert {\n",
              "      background-color: #E8F0FE;\n",
              "      border: none;\n",
              "      border-radius: 50%;\n",
              "      cursor: pointer;\n",
              "      display: none;\n",
              "      fill: #1967D2;\n",
              "      height: 32px;\n",
              "      padding: 0 0 0 0;\n",
              "      width: 32px;\n",
              "    }\n",
              "\n",
              "    .colab-df-convert:hover {\n",
              "      background-color: #E2EBFA;\n",
              "      box-shadow: 0px 1px 2px rgba(60, 64, 67, 0.3), 0px 1px 3px 1px rgba(60, 64, 67, 0.15);\n",
              "      fill: #174EA6;\n",
              "    }\n",
              "\n",
              "    [theme=dark] .colab-df-convert {\n",
              "      background-color: #3B4455;\n",
              "      fill: #D2E3FC;\n",
              "    }\n",
              "\n",
              "    [theme=dark] .colab-df-convert:hover {\n",
              "      background-color: #434B5C;\n",
              "      box-shadow: 0px 1px 3px 1px rgba(0, 0, 0, 0.15);\n",
              "      filter: drop-shadow(0px 1px 2px rgba(0, 0, 0, 0.3));\n",
              "      fill: #FFFFFF;\n",
              "    }\n",
              "  </style>\n",
              "\n",
              "      <script>\n",
              "        const buttonEl =\n",
              "          document.querySelector('#df-aa59ce3f-14d4-45a2-ac41-57fe994e2003 button.colab-df-convert');\n",
              "        buttonEl.style.display =\n",
              "          google.colab.kernel.accessAllowed ? 'block' : 'none';\n",
              "\n",
              "        async function convertToInteractive(key) {\n",
              "          const element = document.querySelector('#df-aa59ce3f-14d4-45a2-ac41-57fe994e2003');\n",
              "          const dataTable =\n",
              "            await google.colab.kernel.invokeFunction('convertToInteractive',\n",
              "                                                     [key], {});\n",
              "          if (!dataTable) return;\n",
              "\n",
              "          const docLinkHtml = 'Like what you see? Visit the ' +\n",
              "            '<a target=\"_blank\" href=https://colab.research.google.com/notebooks/data_table.ipynb>data table notebook</a>'\n",
              "            + ' to learn more about interactive tables.';\n",
              "          element.innerHTML = '';\n",
              "          dataTable['output_type'] = 'display_data';\n",
              "          await google.colab.output.renderOutput(dataTable, element);\n",
              "          const docLink = document.createElement('div');\n",
              "          docLink.innerHTML = docLinkHtml;\n",
              "          element.appendChild(docLink);\n",
              "        }\n",
              "      </script>\n",
              "    </div>\n",
              "  </div>\n",
              "  "
            ]
          },
          "metadata": {},
          "execution_count": 13
        }
      ],
      "source": [
        "sample = data.sample(frac=0.01, replace=True, random_state=1)\n",
        "sample\n"
      ],
      "id": "6cffc969"
    },
    {
      "cell_type": "markdown",
      "source": [
        "#Findings:"
      ],
      "metadata": {
        "id": "_u7KZHkj9GVn"
      },
      "id": "_u7KZHkj9GVn"
    },
    {
      "cell_type": "markdown",
      "source": [
        "The classification dataset I chose had mostly clean data. The dataset didn’t contain missing data. It also didn’t contain any outliers, other than the id column which contained non-measured data. The dataset didn’t contain duplicates, and the results from sampling confirmed the previously mentioned results when randomly sampling the data."
      ],
      "metadata": {
        "id": "rN29ndbS9IYA"
      },
      "id": "rN29ndbS9IYA"
    },
    {
      "cell_type": "markdown",
      "source": [
        "#Assignment 4 Beginning"
      ],
      "metadata": {
        "id": "tPbH5LjYf31c"
      },
      "id": "tPbH5LjYf31c"
    },
    {
      "cell_type": "markdown",
      "source": [
        "#Univariate, Bivariate, and Multivariate Data Analysis Meanings"
      ],
      "metadata": {
        "id": "ujuVdALYsAuK"
      },
      "id": "ujuVdALYsAuK"
    },
    {
      "cell_type": "markdown",
      "source": [
        "According to aditya191251015002,\n",
        "\n",
        "$Univariate$ $Analysis$ is, \"a type of data visualization where we visualize only a single variable at a time\"(geeksforgeeks, 2022).\n",
        "\n",
        "$Bivariate$ $Analysis$ is, \"the simulatneous analysis of two variables. It explores the concept of the relationship between two variable whether there exists an association and the strength of this association or whether there are differences between two variables and the significance of these differences\"(geeksforgeeks, 2022).\n",
        "\n",
        "$Multivariate$ $Analysis$ is, \"an extension of bivariate analysis which means it involves multiple variables at the same time to find correlation between them\"(geeksforgeeks, 2022).\n"
      ],
      "metadata": {
        "id": "2o7VCPBAr_Lu"
      },
      "id": "2o7VCPBAr_Lu"
    },
    {
      "cell_type": "markdown",
      "source": [
        "#Univariate Analysis (Continuous and Categorical Variables):\n",
        "\n"
      ],
      "metadata": {
        "id": "PDlej_2osO1J"
      },
      "id": "PDlej_2osO1J"
    },
    {
      "cell_type": "code",
      "source": [
        "import seaborn as sns\n",
        "import matplotlib.pyplot as plt\n",
        "import math"
      ],
      "metadata": {
        "id": "iU9hDzPtr-Sj"
      },
      "execution_count": 14,
      "outputs": [],
      "id": "iU9hDzPtr-Sj"
    },
    {
      "cell_type": "markdown",
      "source": [
        "First, I will start by calculating the mean, standard deviation, minimum, and maximum values to analyze specific values."
      ],
      "metadata": {
        "id": "jzRHaV2bPDxY"
      },
      "id": "jzRHaV2bPDxY"
    },
    {
      "cell_type": "code",
      "source": [
        "from pandas.api.types import is_numeric_dtype\n",
        "\n",
        "\n",
        "for col in data2.columns:\n",
        "    if is_numeric_dtype(data2[col]):\n",
        "        print('%s:' % (col))\n",
        "        print('\\t Mean = %.2f' % data2[col].mean())\n",
        "        print('\\t Standard deviation = %.2f' % data[col].std())\n",
        "        print('\\t Minimum = %.2f' % data2[col].min())\n",
        "        print('\\t Maximum = %.2f' % data2[col].max())"
      ],
      "metadata": {
        "id": "JJikeAcNoVm8",
        "colab": {
          "base_uri": "https://localhost:8080/"
        },
        "outputId": "4ba3f4b7-6854-4d81-90f3-90087bff3784"
      },
      "execution_count": 15,
      "outputs": [
        {
          "output_type": "stream",
          "name": "stdout",
          "text": [
            "id:\n",
            "\t Mean = 14382878.05\n",
            "\t Standard deviation = 20872018.35\n",
            "\t Minimum = 2000433.00\n",
            "\t Maximum = 54275914.00\n",
            "est_diameter_min:\n",
            "\t Mean = 0.13\n",
            "\t Standard deviation = 0.30\n",
            "\t Minimum = 0.00\n",
            "\t Maximum = 37.89\n",
            "est_diameter_max:\n",
            "\t Mean = 0.28\n",
            "\t Standard deviation = 0.67\n",
            "\t Minimum = 0.00\n",
            "\t Maximum = 84.73\n",
            "relative_velocity:\n",
            "\t Mean = 48066.92\n",
            "\t Standard deviation = 25293.30\n",
            "\t Minimum = 203.35\n",
            "\t Maximum = 236990.13\n",
            "miss_distance:\n",
            "\t Mean = 37066546.03\n",
            "\t Standard deviation = 22352040.60\n",
            "\t Minimum = 6745.53\n",
            "\t Maximum = 74798651.45\n",
            "absolute_magnitude:\n",
            "\t Mean = 23.53\n",
            "\t Standard deviation = 2.89\n",
            "\t Minimum = 9.23\n",
            "\t Maximum = 33.20\n"
          ]
        }
      ],
      "id": "JJikeAcNoVm8"
    },
    {
      "cell_type": "markdown",
      "source": [
        "Next, I will print the features with their data type to use for the code following it."
      ],
      "metadata": {
        "id": "Yd9aLVJpPYaY"
      },
      "id": "Yd9aLVJpPYaY"
    },
    {
      "cell_type": "code",
      "source": [
        "data2.info()"
      ],
      "metadata": {
        "id": "2smkr7NuogHf",
        "colab": {
          "base_uri": "https://localhost:8080/"
        },
        "outputId": "0f39a118-fd22-453d-d362-2fa30a34f4a8"
      },
      "execution_count": 16,
      "outputs": [
        {
          "output_type": "stream",
          "name": "stdout",
          "text": [
            "<class 'pandas.core.frame.DataFrame'>\n",
            "RangeIndex: 90836 entries, 0 to 90835\n",
            "Data columns (total 6 columns):\n",
            " #   Column              Non-Null Count  Dtype  \n",
            "---  ------              --------------  -----  \n",
            " 0   id                  90836 non-null  int64  \n",
            " 1   est_diameter_min    90836 non-null  float64\n",
            " 2   est_diameter_max    90836 non-null  float64\n",
            " 3   relative_velocity   90836 non-null  float64\n",
            " 4   miss_distance       90836 non-null  float64\n",
            " 5   absolute_magnitude  90836 non-null  float64\n",
            "dtypes: float64(5), int64(1)\n",
            "memory usage: 4.2 MB\n"
          ]
        }
      ],
      "id": "2smkr7NuogHf"
    },
    {
      "cell_type": "markdown",
      "source": [
        "Next, I will use a histogram to perform Univariate Analysis on continuous variables."
      ],
      "metadata": {
        "id": "U--pbuhcyrnj"
      },
      "id": "U--pbuhcyrnj"
    },
    {
      "cell_type": "code",
      "source": [
        "sns.histplot(data2['id'])"
      ],
      "metadata": {
        "id": "Ghk5eGJzyQXP",
        "colab": {
          "base_uri": "https://localhost:8080/",
          "height": 467
        },
        "outputId": "474a3198-3277-47c4-dff4-bbd3bd5bd52c"
      },
      "execution_count": 17,
      "outputs": [
        {
          "output_type": "execute_result",
          "data": {
            "text/plain": [
              "<Axes: xlabel='id', ylabel='Count'>"
            ]
          },
          "metadata": {},
          "execution_count": 17
        },
        {
          "output_type": "display_data",
          "data": {
            "text/plain": [
              "<Figure size 640x480 with 1 Axes>"
            ],
            "image/png": "[encoded data removed]"
          },
          "metadata": {}
        }
      ],
      "id": "Ghk5eGJzyQXP"
    },
    {
      "cell_type": "code",
      "source": [
        "sns.histplot(data2['est_diameter_min'])"
      ],
      "metadata": {
        "id": "lvb67tqbzAun",
        "colab": {
          "base_uri": "https://localhost:8080/",
          "height": 468
        },
        "outputId": "be05e235-d583-4db0-888c-14acd648de94"
      },
      "execution_count": 18,
      "outputs": [
        {
          "output_type": "execute_result",
          "data": {
            "text/plain": [
              "<Axes: xlabel='est_diameter_min', ylabel='Count'>"
            ]
          },
          "metadata": {},
          "execution_count": 18
        },
        {
          "output_type": "display_data",
          "data": {
            "text/plain": [
              "<Figure size 640x480 with 1 Axes>"
            ],
            "image/png": "[encoded data removed]"
          },
          "metadata": {}
        }
      ],
      "id": "lvb67tqbzAun"
    },
    {
      "cell_type": "code",
      "source": [
        "sns.histplot(data2['est_diameter_max'])"
      ],
      "metadata": {
        "id": "ydY7lgD2zDn1",
        "colab": {
          "base_uri": "https://localhost:8080/",
          "height": 468
        },
        "outputId": "bda3af03-3b4f-4a30-cd11-7f8d10ebc6f7"
      },
      "execution_count": 19,
      "outputs": [
        {
          "output_type": "execute_result",
          "data": {
            "text/plain": [
              "<Axes: xlabel='est_diameter_max', ylabel='Count'>"
            ]
          },
          "metadata": {},
          "execution_count": 19
        },
        {
          "output_type": "display_data",
          "data": {
            "text/plain": [
              "<Figure size 640x480 with 1 Axes>"
            ],
            "image/png": "[encoded data removed]"
          },
          "metadata": {}
        }
      ],
      "id": "ydY7lgD2zDn1"
    },
    {
      "cell_type": "code",
      "source": [
        "sns.histplot(data2['relative_velocity'])"
      ],
      "metadata": {
        "id": "bxczLB_KzJYX",
        "colab": {
          "base_uri": "https://localhost:8080/",
          "height": 468
        },
        "outputId": "f1ee3556-45bd-4716-d29d-7f7fab468524"
      },
      "execution_count": 20,
      "outputs": [
        {
          "output_type": "execute_result",
          "data": {
            "text/plain": [
              "<Axes: xlabel='relative_velocity', ylabel='Count'>"
            ]
          },
          "metadata": {},
          "execution_count": 20
        },
        {
          "output_type": "display_data",
          "data": {
            "text/plain": [
              "<Figure size 640x480 with 1 Axes>"
            ],
            "image/png": "[encoded data removed]"
          },
          "metadata": {}
        }
      ],
      "id": "bxczLB_KzJYX"
    },
    {
      "cell_type": "code",
      "source": [
        "sns.histplot(data2['miss_distance'])"
      ],
      "metadata": {
        "id": "ow4WIu4puCwY",
        "colab": {
          "base_uri": "https://localhost:8080/",
          "height": 468
        },
        "outputId": "73e5242e-6e9b-4328-a35d-fd8a50e46d21"
      },
      "execution_count": 21,
      "outputs": [
        {
          "output_type": "execute_result",
          "data": {
            "text/plain": [
              "<Axes: xlabel='miss_distance', ylabel='Count'>"
            ]
          },
          "metadata": {},
          "execution_count": 21
        },
        {
          "output_type": "display_data",
          "data": {
            "text/plain": [
              "<Figure size 640x480 with 1 Axes>"
            ],
            "image/png": "[encoded data removed]"
          },
          "metadata": {}
        }
      ],
      "id": "ow4WIu4puCwY"
    },
    {
      "cell_type": "code",
      "source": [
        "sns.histplot(data2['absolute_magnitude'])"
      ],
      "metadata": {
        "id": "wTFHKuLauKbG",
        "colab": {
          "base_uri": "https://localhost:8080/",
          "height": 468
        },
        "outputId": "08edc63e-c867-411b-97f4-e1628d45d208"
      },
      "execution_count": 22,
      "outputs": [
        {
          "output_type": "execute_result",
          "data": {
            "text/plain": [
              "<Axes: xlabel='absolute_magnitude', ylabel='Count'>"
            ]
          },
          "metadata": {},
          "execution_count": 22
        },
        {
          "output_type": "display_data",
          "data": {
            "text/plain": [
              "<Figure size 640x480 with 1 Axes>"
            ],
            "image/png": "[encoded data removed]"
          },
          "metadata": {}
        }
      ],
      "id": "wTFHKuLauKbG"
    },
    {
      "cell_type": "markdown",
      "source": [
        "Next, I will check for ensure there are no duplicated values."
      ],
      "metadata": {
        "id": "vKSOmpEFPs0p"
      },
      "id": "vKSOmpEFPs0p"
    },
    {
      "cell_type": "code",
      "source": [
        "data2.duplicated().sum()"
      ],
      "metadata": {
        "id": "CF-S31n9ohm_",
        "colab": {
          "base_uri": "https://localhost:8080/"
        },
        "outputId": "aa28165f-c1ae-4d33-a8c8-b343229fcb83"
      },
      "execution_count": 39,
      "outputs": [
        {
          "output_type": "execute_result",
          "data": {
            "text/plain": [
              "0"
            ]
          },
          "metadata": {},
          "execution_count": 39
        }
      ],
      "id": "CF-S31n9ohm_"
    },
    {
      "cell_type": "markdown",
      "source": [
        "Next, I will use the $value$ $counts$ function to analyze the categorical data in the dataset. I will first display the data to check the data types."
      ],
      "metadata": {
        "id": "XaJcBMuP1PPu"
      },
      "id": "XaJcBMuP1PPu"
    },
    {
      "cell_type": "code",
      "source": [
        "data.info()"
      ],
      "metadata": {
        "colab": {
          "base_uri": "https://localhost:8080/"
        },
        "id": "IMYZGXW92l_i",
        "outputId": "457fa244-3fda-47f1-89f2-2fe3524e5003"
      },
      "id": "IMYZGXW92l_i",
      "execution_count": 24,
      "outputs": [
        {
          "output_type": "stream",
          "name": "stdout",
          "text": [
            "<class 'pandas.core.frame.DataFrame'>\n",
            "RangeIndex: 90836 entries, 0 to 90835\n",
            "Data columns (total 10 columns):\n",
            " #   Column              Non-Null Count  Dtype  \n",
            "---  ------              --------------  -----  \n",
            " 0   id                  90836 non-null  int64  \n",
            " 1   Name                90836 non-null  object \n",
            " 2   est_diameter_min    90836 non-null  float64\n",
            " 3   est_diameter_max    90836 non-null  float64\n",
            " 4   relative_velocity   90836 non-null  float64\n",
            " 5   miss_distance       90836 non-null  float64\n",
            " 6   orbiting_body       90836 non-null  object \n",
            " 7   sentry_object       90836 non-null  bool   \n",
            " 8   absolute_magnitude  90836 non-null  float64\n",
            " 9   hazardous           90836 non-null  bool   \n",
            "dtypes: bool(2), float64(5), int64(1), object(2)\n",
            "memory usage: 5.7+ MB\n"
          ]
        }
      ]
    },
    {
      "cell_type": "code",
      "source": [
        "data['Name'].value_counts()"
      ],
      "metadata": {
        "id": "to2l3qmopUyh",
        "colab": {
          "base_uri": "https://localhost:8080/"
        },
        "outputId": "7b15dd8b-57ec-4682-f958-1a11e1e17995"
      },
      "execution_count": 25,
      "outputs": [
        {
          "output_type": "execute_result",
          "data": {
            "text/plain": [
              "469219 Kamo`oalewa (2016 HO3)    43\n",
              "277810 (2006 FV35)               43\n",
              "(2016 CA138)                     40\n",
              "138175 (2000 EE104)              39\n",
              "(2019 XS)                        38\n",
              "                                 ..\n",
              "(2017 CS)                         1\n",
              "(2017 KJ3)                        1\n",
              "(2017 OA20)                       1\n",
              "(2017 KK27)                       1\n",
              "(1999 LV7)                        1\n",
              "Name: Name, Length: 27423, dtype: int64"
            ]
          },
          "metadata": {},
          "execution_count": 25
        }
      ],
      "id": "to2l3qmopUyh"
    },
    {
      "cell_type": "code",
      "source": [
        "data['orbiting_body'].value_counts()"
      ],
      "metadata": {
        "id": "jLMFOjoypvoB",
        "colab": {
          "base_uri": "https://localhost:8080/"
        },
        "outputId": "161d6227-aa9b-494d-fc1a-faa636e700b2"
      },
      "execution_count": 26,
      "outputs": [
        {
          "output_type": "execute_result",
          "data": {
            "text/plain": [
              "Earth    90836\n",
              "Name: orbiting_body, dtype: int64"
            ]
          },
          "metadata": {},
          "execution_count": 26
        }
      ],
      "id": "jLMFOjoypvoB"
    },
    {
      "cell_type": "code",
      "source": [
        "data['sentry_object'].value_counts()"
      ],
      "metadata": {
        "id": "HXG2UvnSqBuu",
        "colab": {
          "base_uri": "https://localhost:8080/"
        },
        "outputId": "b49d99cb-df57-44bb-bb79-cf7911ddf46a"
      },
      "execution_count": 27,
      "outputs": [
        {
          "output_type": "execute_result",
          "data": {
            "text/plain": [
              "False    90836\n",
              "Name: sentry_object, dtype: int64"
            ]
          },
          "metadata": {},
          "execution_count": 27
        }
      ],
      "id": "HXG2UvnSqBuu"
    },
    {
      "cell_type": "code",
      "source": [
        "data['hazardous'].value_counts()"
      ],
      "metadata": {
        "id": "hg2IzQL6qJc_",
        "colab": {
          "base_uri": "https://localhost:8080/"
        },
        "outputId": "664c1f88-0f31-403b-b8cc-936e4d029b00"
      },
      "execution_count": 28,
      "outputs": [
        {
          "output_type": "execute_result",
          "data": {
            "text/plain": [
              "False    81996\n",
              "True      8840\n",
              "Name: hazardous, dtype: int64"
            ]
          },
          "metadata": {},
          "execution_count": 28
        }
      ],
      "id": "hg2IzQL6qJc_"
    },
    {
      "cell_type": "markdown",
      "source": [
        "Next, I will use the describe function to display attributes and some of their common statistical values."
      ],
      "metadata": {
        "id": "lOZpXC3fQRwc"
      },
      "id": "lOZpXC3fQRwc"
    },
    {
      "cell_type": "code",
      "source": [
        "data2.describe(include='all')"
      ],
      "metadata": {
        "id": "wpRL3bOIqZzF",
        "colab": {
          "base_uri": "https://localhost:8080/",
          "height": 300
        },
        "outputId": "1d2950e1-7e42-41e0-d663-06c1b4263fa0"
      },
      "execution_count": 29,
      "outputs": [
        {
          "output_type": "execute_result",
          "data": {
            "text/plain": [
              "                 id  est_diameter_min  est_diameter_max  relative_velocity  \\\n",
              "count  9.083600e+04      90836.000000      90836.000000       90836.000000   \n",
              "mean   1.438288e+07          0.127432          0.284947       48066.918918   \n",
              "std    2.087202e+07          0.298511          0.667491       25293.296961   \n",
              "min    2.000433e+06          0.000609          0.001362         203.346432   \n",
              "25%    3.448110e+06          0.019256          0.043057       28619.020648   \n",
              "50%    3.748362e+06          0.048368          0.108153       44190.117890   \n",
              "75%    3.884023e+06          0.143402          0.320656       62923.604635   \n",
              "max    5.427591e+07         37.892650         84.730541      236990.128100   \n",
              "\n",
              "       miss_distance  absolute_magnitude  \n",
              "count   9.083600e+04        90836.000000  \n",
              "mean    3.706655e+07           23.527103  \n",
              "std     2.235204e+07            2.894086  \n",
              "min     6.745533e+03            9.230000  \n",
              "25%     1.721082e+07           21.340000  \n",
              "50%     3.784658e+07           23.700000  \n",
              "75%     5.654900e+07           25.700000  \n",
              "max     7.479865e+07           33.200000  "
            ],
            "text/html": [
              "\n",
              "  <div id=\"df-f3f6a278-fc97-453f-8ef9-87843d6d302a\">\n",
              "    <div class=\"colab-df-container\">\n",
              "      <div>\n",
              "<style scoped>\n",
              "    .dataframe tbody tr th:only-of-type {\n",
              "        vertical-align: middle;\n",
              "    }\n",
              "\n",
              "    .dataframe tbody tr th {\n",
              "        vertical-align: top;\n",
              "    }\n",
              "\n",
              "    .dataframe thead th {\n",
              "        text-align: right;\n",
              "    }\n",
              "</style>\n",
              "<table border=\"1\" class=\"dataframe\">\n",
              "  <thead>\n",
              "    <tr style=\"text-align: right;\">\n",
              "      <th></th>\n",
              "      <th>id</th>\n",
              "      <th>est_diameter_min</th>\n",
              "      <th>est_diameter_max</th>\n",
              "      <th>relative_velocity</th>\n",
              "      <th>miss_distance</th>\n",
              "      <th>absolute_magnitude</th>\n",
              "    </tr>\n",
              "  </thead>\n",
              "  <tbody>\n",
              "    <tr>\n",
              "      <th>count</th>\n",
              "      <td>9.083600e+04</td>\n",
              "      <td>90836.000000</td>\n",
              "      <td>90836.000000</td>\n",
              "      <td>90836.000000</td>\n",
              "      <td>9.083600e+04</td>\n",
              "      <td>90836.000000</td>\n",
              "    </tr>\n",
              "    <tr>\n",
              "      <th>mean</th>\n",
              "      <td>1.438288e+07</td>\n",
              "      <td>0.127432</td>\n",
              "      <td>0.284947</td>\n",
              "      <td>48066.918918</td>\n",
              "      <td>3.706655e+07</td>\n",
              "      <td>23.527103</td>\n",
              "    </tr>\n",
              "    <tr>\n",
              "      <th>std</th>\n",
              "      <td>2.087202e+07</td>\n",
              "      <td>0.298511</td>\n",
              "      <td>0.667491</td>\n",
              "      <td>25293.296961</td>\n",
              "      <td>2.235204e+07</td>\n",
              "      <td>2.894086</td>\n",
              "    </tr>\n",
              "    <tr>\n",
              "      <th>min</th>\n",
              "      <td>2.000433e+06</td>\n",
              "      <td>0.000609</td>\n",
              "      <td>0.001362</td>\n",
              "      <td>203.346432</td>\n",
              "      <td>6.745533e+03</td>\n",
              "      <td>9.230000</td>\n",
              "    </tr>\n",
              "    <tr>\n",
              "      <th>25%</th>\n",
              "      <td>3.448110e+06</td>\n",
              "      <td>0.019256</td>\n",
              "      <td>0.043057</td>\n",
              "      <td>28619.020648</td>\n",
              "      <td>1.721082e+07</td>\n",
              "      <td>21.340000</td>\n",
              "    </tr>\n",
              "    <tr>\n",
              "      <th>50%</th>\n",
              "      <td>3.748362e+06</td>\n",
              "      <td>0.048368</td>\n",
              "      <td>0.108153</td>\n",
              "      <td>44190.117890</td>\n",
              "      <td>3.784658e+07</td>\n",
              "      <td>23.700000</td>\n",
              "    </tr>\n",
              "    <tr>\n",
              "      <th>75%</th>\n",
              "      <td>3.884023e+06</td>\n",
              "      <td>0.143402</td>\n",
              "      <td>0.320656</td>\n",
              "      <td>62923.604635</td>\n",
              "      <td>5.654900e+07</td>\n",
              "      <td>25.700000</td>\n",
              "    </tr>\n",
              "    <tr>\n",
              "      <th>max</th>\n",
              "      <td>5.427591e+07</td>\n",
              "      <td>37.892650</td>\n",
              "      <td>84.730541</td>\n",
              "      <td>236990.128100</td>\n",
              "      <td>7.479865e+07</td>\n",
              "      <td>33.200000</td>\n",
              "    </tr>\n",
              "  </tbody>\n",
              "</table>\n",
              "</div>\n",
              "      <button class=\"colab-df-convert\" onclick=\"convertToInteractive('df-f3f6a278-fc97-453f-8ef9-87843d6d302a')\"\n",
              "              title=\"Convert this dataframe to an interactive table.\"\n",
              "              style=\"display:none;\">\n",
              "        \n",
              "  <svg xmlns=\"http://www.w3.org/2000/svg\" height=\"24px\"viewBox=\"0 0 24 24\"\n",
              "       width=\"24px\">\n",
              "    <path d=\"M0 0h24v24H0V0z\" fill=\"none\"/>\n",
              "    <path d=\"M18.56 5.44l.94 2.06.94-2.06 2.06-.94-2.06-.94-.94-2.06-.94 2.06-2.06.94zm-11 1L8.5 8.5l.94-2.06 2.06-.94-2.06-.94L8.5 2.5l-.94 2.06-2.06.94zm10 10l.94 2.06.94-2.06 2.06-.94-2.06-.94-.94-2.06-.94 2.06-2.06.94z\"/><path d=\"M17.41 7.96l-1.37-1.37c-.4-.4-.92-.59-1.43-.59-.52 0-1.04.2-1.43.59L10.3 9.45l-7.72 7.72c-.78.78-.78 2.05 0 2.83L4 21.41c.39.39.9.59 1.41.59.51 0 1.02-.2 1.41-.59l7.78-7.78 2.81-2.81c.8-.78.8-2.07 0-2.86zM5.41 20L4 18.59l7.72-7.72 1.47 1.35L5.41 20z\"/>\n",
              "  </svg>\n",
              "      </button>\n",
              "      \n",
              "  <style>\n",
              "    .colab-df-container {\n",
              "      display:flex;\n",
              "      flex-wrap:wrap;\n",
              "      gap: 12px;\n",
              "    }\n",
              "\n",
              "    .colab-df-convert {\n",
              "      background-color: #E8F0FE;\n",
              "      border: none;\n",
              "      border-radius: 50%;\n",
              "      cursor: pointer;\n",
              "      display: none;\n",
              "      fill: #1967D2;\n",
              "      height: 32px;\n",
              "      padding: 0 0 0 0;\n",
              "      width: 32px;\n",
              "    }\n",
              "\n",
              "    .colab-df-convert:hover {\n",
              "      background-color: #E2EBFA;\n",
              "      box-shadow: 0px 1px 2px rgba(60, 64, 67, 0.3), 0px 1px 3px 1px rgba(60, 64, 67, 0.15);\n",
              "      fill: #174EA6;\n",
              "    }\n",
              "\n",
              "    [theme=dark] .colab-df-convert {\n",
              "      background-color: #3B4455;\n",
              "      fill: #D2E3FC;\n",
              "    }\n",
              "\n",
              "    [theme=dark] .colab-df-convert:hover {\n",
              "      background-color: #434B5C;\n",
              "      box-shadow: 0px 1px 3px 1px rgba(0, 0, 0, 0.15);\n",
              "      filter: drop-shadow(0px 1px 2px rgba(0, 0, 0, 0.3));\n",
              "      fill: #FFFFFF;\n",
              "    }\n",
              "  </style>\n",
              "\n",
              "      <script>\n",
              "        const buttonEl =\n",
              "          document.querySelector('#df-f3f6a278-fc97-453f-8ef9-87843d6d302a button.colab-df-convert');\n",
              "        buttonEl.style.display =\n",
              "          google.colab.kernel.accessAllowed ? 'block' : 'none';\n",
              "\n",
              "        async function convertToInteractive(key) {\n",
              "          const element = document.querySelector('#df-f3f6a278-fc97-453f-8ef9-87843d6d302a');\n",
              "          const dataTable =\n",
              "            await google.colab.kernel.invokeFunction('convertToInteractive',\n",
              "                                                     [key], {});\n",
              "          if (!dataTable) return;\n",
              "\n",
              "          const docLinkHtml = 'Like what you see? Visit the ' +\n",
              "            '<a target=\"_blank\" href=https://colab.research.google.com/notebooks/data_table.ipynb>data table notebook</a>'\n",
              "            + ' to learn more about interactive tables.';\n",
              "          element.innerHTML = '';\n",
              "          dataTable['output_type'] = 'display_data';\n",
              "          await google.colab.output.renderOutput(dataTable, element);\n",
              "          const docLink = document.createElement('div');\n",
              "          docLink.innerHTML = docLinkHtml;\n",
              "          element.appendChild(docLink);\n",
              "        }\n",
              "      </script>\n",
              "    </div>\n",
              "  </div>\n",
              "  "
            ]
          },
          "metadata": {},
          "execution_count": 29
        }
      ],
      "id": "wpRL3bOIqZzF"
    },
    {
      "cell_type": "markdown",
      "source": [
        "Next, I will use a bar chart to analyze a continuous variable."
      ],
      "metadata": {
        "id": "nPXre8K3QrVW"
      },
      "id": "nPXre8K3QrVW"
    },
    {
      "cell_type": "code",
      "source": [
        "%matplotlib inline\n",
        "\n",
        "data2['relative_velocity'].hist(bins=8)"
      ],
      "metadata": {
        "id": "Tl9r1ap9rJk0",
        "colab": {
          "base_uri": "https://localhost:8080/",
          "height": 448
        },
        "outputId": "7c24f9d1-bbac-41ef-8b84-f0a549d5c613"
      },
      "execution_count": 30,
      "outputs": [
        {
          "output_type": "execute_result",
          "data": {
            "text/plain": [
              "<Axes: >"
            ]
          },
          "metadata": {},
          "execution_count": 30
        },
        {
          "output_type": "display_data",
          "data": {
            "text/plain": [
              "<Figure size 640x480 with 1 Axes>"
            ],
            "image/png": "[encoded data removed]"
          },
          "metadata": {}
        }
      ],
      "id": "Tl9r1ap9rJk0"
    },
    {
      "cell_type": "markdown",
      "source": [
        "#Bivariate Analysis"
      ],
      "metadata": {
        "id": "PPn8mvj53hSk"
      },
      "id": "PPn8mvj53hSk"
    },
    {
      "cell_type": "markdown",
      "source": [
        "The next line of code uses covariance and correlation to compare multiple variables."
      ],
      "metadata": {
        "id": "xdfcoxGE32Cw"
      },
      "id": "xdfcoxGE32Cw"
    },
    {
      "cell_type": "code",
      "source": [
        "print('Covariance:')\n",
        "data2.cov()"
      ],
      "metadata": {
        "id": "Za07tAmwqm8n",
        "colab": {
          "base_uri": "https://localhost:8080/",
          "height": 256
        },
        "outputId": "24e654d4-85ab-4057-8cf7-42918644730a"
      },
      "execution_count": 31,
      "outputs": [
        {
          "output_type": "stream",
          "name": "stdout",
          "text": [
            "Covariance:\n"
          ]
        },
        {
          "output_type": "execute_result",
          "data": {
            "text/plain": [
              "                              id  est_diameter_min  est_diameter_max  \\\n",
              "id                  4.356412e+14    -924127.893676     -2.066413e+06   \n",
              "est_diameter_min   -9.241279e+05          0.089109      1.992537e-01   \n",
              "est_diameter_max   -2.066413e+06          0.199254      4.455448e-01   \n",
              "relative_velocity  -3.124015e+10       1672.801452      3.740498e+03   \n",
              "miss_distance      -2.636387e+13     949081.577441      2.122211e+06   \n",
              "absolute_magnitude  1.674791e+07         -0.483956     -1.082159e+00   \n",
              "\n",
              "                    relative_velocity  miss_distance  absolute_magnitude  \n",
              "id                      -3.124015e+10  -2.636387e+13        1.674791e+07  \n",
              "est_diameter_min         1.672801e+03   9.490816e+05       -4.839563e-01  \n",
              "est_diameter_max         3.740498e+03   2.122211e+06       -1.082159e+00  \n",
              "relative_velocity        6.397509e+08   1.849675e+11       -2.590309e+04  \n",
              "miss_distance            1.849675e+11   4.996137e+14       -1.708869e+07  \n",
              "absolute_magnitude      -2.590309e+04  -1.708869e+07        8.375731e+00  "
            ],
            "text/html": [
              "\n",
              "  <div id=\"df-c51f14ce-2cc7-49a7-9e5f-5e4e83a38fe9\">\n",
              "    <div class=\"colab-df-container\">\n",
              "      <div>\n",
              "<style scoped>\n",
              "    .dataframe tbody tr th:only-of-type {\n",
              "        vertical-align: middle;\n",
              "    }\n",
              "\n",
              "    .dataframe tbody tr th {\n",
              "        vertical-align: top;\n",
              "    }\n",
              "\n",
              "    .dataframe thead th {\n",
              "        text-align: right;\n",
              "    }\n",
              "</style>\n",
              "<table border=\"1\" class=\"dataframe\">\n",
              "  <thead>\n",
              "    <tr style=\"text-align: right;\">\n",
              "      <th></th>\n",
              "      <th>id</th>\n",
              "      <th>est_diameter_min</th>\n",
              "      <th>est_diameter_max</th>\n",
              "      <th>relative_velocity</th>\n",
              "      <th>miss_distance</th>\n",
              "      <th>absolute_magnitude</th>\n",
              "    </tr>\n",
              "  </thead>\n",
              "  <tbody>\n",
              "    <tr>\n",
              "      <th>id</th>\n",
              "      <td>4.356412e+14</td>\n",
              "      <td>-924127.893676</td>\n",
              "      <td>-2.066413e+06</td>\n",
              "      <td>-3.124015e+10</td>\n",
              "      <td>-2.636387e+13</td>\n",
              "      <td>1.674791e+07</td>\n",
              "    </tr>\n",
              "    <tr>\n",
              "      <th>est_diameter_min</th>\n",
              "      <td>-9.241279e+05</td>\n",
              "      <td>0.089109</td>\n",
              "      <td>1.992537e-01</td>\n",
              "      <td>1.672801e+03</td>\n",
              "      <td>9.490816e+05</td>\n",
              "      <td>-4.839563e-01</td>\n",
              "    </tr>\n",
              "    <tr>\n",
              "      <th>est_diameter_max</th>\n",
              "      <td>-2.066413e+06</td>\n",
              "      <td>0.199254</td>\n",
              "      <td>4.455448e-01</td>\n",
              "      <td>3.740498e+03</td>\n",
              "      <td>2.122211e+06</td>\n",
              "      <td>-1.082159e+00</td>\n",
              "    </tr>\n",
              "    <tr>\n",
              "      <th>relative_velocity</th>\n",
              "      <td>-3.124015e+10</td>\n",
              "      <td>1672.801452</td>\n",
              "      <td>3.740498e+03</td>\n",
              "      <td>6.397509e+08</td>\n",
              "      <td>1.849675e+11</td>\n",
              "      <td>-2.590309e+04</td>\n",
              "    </tr>\n",
              "    <tr>\n",
              "      <th>miss_distance</th>\n",
              "      <td>-2.636387e+13</td>\n",
              "      <td>949081.577441</td>\n",
              "      <td>2.122211e+06</td>\n",
              "      <td>1.849675e+11</td>\n",
              "      <td>4.996137e+14</td>\n",
              "      <td>-1.708869e+07</td>\n",
              "    </tr>\n",
              "    <tr>\n",
              "      <th>absolute_magnitude</th>\n",
              "      <td>1.674791e+07</td>\n",
              "      <td>-0.483956</td>\n",
              "      <td>-1.082159e+00</td>\n",
              "      <td>-2.590309e+04</td>\n",
              "      <td>-1.708869e+07</td>\n",
              "      <td>8.375731e+00</td>\n",
              "    </tr>\n",
              "  </tbody>\n",
              "</table>\n",
              "</div>\n",
              "      <button class=\"colab-df-convert\" onclick=\"convertToInteractive('df-c51f14ce-2cc7-49a7-9e5f-5e4e83a38fe9')\"\n",
              "              title=\"Convert this dataframe to an interactive table.\"\n",
              "              style=\"display:none;\">\n",
              "        \n",
              "  <svg xmlns=\"http://www.w3.org/2000/svg\" height=\"24px\"viewBox=\"0 0 24 24\"\n",
              "       width=\"24px\">\n",
              "    <path d=\"M0 0h24v24H0V0z\" fill=\"none\"/>\n",
              "    <path d=\"M18.56 5.44l.94 2.06.94-2.06 2.06-.94-2.06-.94-.94-2.06-.94 2.06-2.06.94zm-11 1L8.5 8.5l.94-2.06 2.06-.94-2.06-.94L8.5 2.5l-.94 2.06-2.06.94zm10 10l.94 2.06.94-2.06 2.06-.94-2.06-.94-.94-2.06-.94 2.06-2.06.94z\"/><path d=\"M17.41 7.96l-1.37-1.37c-.4-.4-.92-.59-1.43-.59-.52 0-1.04.2-1.43.59L10.3 9.45l-7.72 7.72c-.78.78-.78 2.05 0 2.83L4 21.41c.39.39.9.59 1.41.59.51 0 1.02-.2 1.41-.59l7.78-7.78 2.81-2.81c.8-.78.8-2.07 0-2.86zM5.41 20L4 18.59l7.72-7.72 1.47 1.35L5.41 20z\"/>\n",
              "  </svg>\n",
              "      </button>\n",
              "      \n",
              "  <style>\n",
              "    .colab-df-container {\n",
              "      display:flex;\n",
              "      flex-wrap:wrap;\n",
              "      gap: 12px;\n",
              "    }\n",
              "\n",
              "    .colab-df-convert {\n",
              "      background-color: #E8F0FE;\n",
              "      border: none;\n",
              "      border-radius: 50%;\n",
              "      cursor: pointer;\n",
              "      display: none;\n",
              "      fill: #1967D2;\n",
              "      height: 32px;\n",
              "      padding: 0 0 0 0;\n",
              "      width: 32px;\n",
              "    }\n",
              "\n",
              "    .colab-df-convert:hover {\n",
              "      background-color: #E2EBFA;\n",
              "      box-shadow: 0px 1px 2px rgba(60, 64, 67, 0.3), 0px 1px 3px 1px rgba(60, 64, 67, 0.15);\n",
              "      fill: #174EA6;\n",
              "    }\n",
              "\n",
              "    [theme=dark] .colab-df-convert {\n",
              "      background-color: #3B4455;\n",
              "      fill: #D2E3FC;\n",
              "    }\n",
              "\n",
              "    [theme=dark] .colab-df-convert:hover {\n",
              "      background-color: #434B5C;\n",
              "      box-shadow: 0px 1px 3px 1px rgba(0, 0, 0, 0.15);\n",
              "      filter: drop-shadow(0px 1px 2px rgba(0, 0, 0, 0.3));\n",
              "      fill: #FFFFFF;\n",
              "    }\n",
              "  </style>\n",
              "\n",
              "      <script>\n",
              "        const buttonEl =\n",
              "          document.querySelector('#df-c51f14ce-2cc7-49a7-9e5f-5e4e83a38fe9 button.colab-df-convert');\n",
              "        buttonEl.style.display =\n",
              "          google.colab.kernel.accessAllowed ? 'block' : 'none';\n",
              "\n",
              "        async function convertToInteractive(key) {\n",
              "          const element = document.querySelector('#df-c51f14ce-2cc7-49a7-9e5f-5e4e83a38fe9');\n",
              "          const dataTable =\n",
              "            await google.colab.kernel.invokeFunction('convertToInteractive',\n",
              "                                                     [key], {});\n",
              "          if (!dataTable) return;\n",
              "\n",
              "          const docLinkHtml = 'Like what you see? Visit the ' +\n",
              "            '<a target=\"_blank\" href=https://colab.research.google.com/notebooks/data_table.ipynb>data table notebook</a>'\n",
              "            + ' to learn more about interactive tables.';\n",
              "          element.innerHTML = '';\n",
              "          dataTable['output_type'] = 'display_data';\n",
              "          await google.colab.output.renderOutput(dataTable, element);\n",
              "          const docLink = document.createElement('div');\n",
              "          docLink.innerHTML = docLinkHtml;\n",
              "          element.appendChild(docLink);\n",
              "        }\n",
              "      </script>\n",
              "    </div>\n",
              "  </div>\n",
              "  "
            ]
          },
          "metadata": {},
          "execution_count": 31
        }
      ],
      "id": "Za07tAmwqm8n"
    },
    {
      "cell_type": "code",
      "source": [
        "print('Correlation:')\n",
        "data2.corr()"
      ],
      "metadata": {
        "id": "BrJVAe0yrGub",
        "colab": {
          "base_uri": "https://localhost:8080/",
          "height": 256
        },
        "outputId": "020012b9-2060-4394-ebe2-c11289e1da25"
      },
      "execution_count": 32,
      "outputs": [
        {
          "output_type": "stream",
          "name": "stdout",
          "text": [
            "Correlation:\n"
          ]
        },
        {
          "output_type": "execute_result",
          "data": {
            "text/plain": [
              "                          id  est_diameter_min  est_diameter_max  \\\n",
              "id                  1.000000         -0.148322         -0.148322   \n",
              "est_diameter_min   -0.148322          1.000000          1.000000   \n",
              "est_diameter_max   -0.148322          1.000000          1.000000   \n",
              "relative_velocity  -0.059176          0.221553          0.221553   \n",
              "miss_distance      -0.056510          0.142241          0.142241   \n",
              "absolute_magnitude  0.277258         -0.560188         -0.560188   \n",
              "\n",
              "                    relative_velocity  miss_distance  absolute_magnitude  \n",
              "id                          -0.059176      -0.056510            0.277258  \n",
              "est_diameter_min             0.221553       0.142241           -0.560188  \n",
              "est_diameter_max             0.221553       0.142241           -0.560188  \n",
              "relative_velocity            1.000000       0.327169           -0.353863  \n",
              "miss_distance                0.327169       1.000000           -0.264168  \n",
              "absolute_magnitude          -0.353863      -0.264168            1.000000  "
            ],
            "text/html": [
              "\n",
              "  <div id=\"df-35ff653d-3538-4f1c-9872-e6e0997ae655\">\n",
              "    <div class=\"colab-df-container\">\n",
              "      <div>\n",
              "<style scoped>\n",
              "    .dataframe tbody tr th:only-of-type {\n",
              "        vertical-align: middle;\n",
              "    }\n",
              "\n",
              "    .dataframe tbody tr th {\n",
              "        vertical-align: top;\n",
              "    }\n",
              "\n",
              "    .dataframe thead th {\n",
              "        text-align: right;\n",
              "    }\n",
              "</style>\n",
              "<table border=\"1\" class=\"dataframe\">\n",
              "  <thead>\n",
              "    <tr style=\"text-align: right;\">\n",
              "      <th></th>\n",
              "      <th>id</th>\n",
              "      <th>est_diameter_min</th>\n",
              "      <th>est_diameter_max</th>\n",
              "      <th>relative_velocity</th>\n",
              "      <th>miss_distance</th>\n",
              "      <th>absolute_magnitude</th>\n",
              "    </tr>\n",
              "  </thead>\n",
              "  <tbody>\n",
              "    <tr>\n",
              "      <th>id</th>\n",
              "      <td>1.000000</td>\n",
              "      <td>-0.148322</td>\n",
              "      <td>-0.148322</td>\n",
              "      <td>-0.059176</td>\n",
              "      <td>-0.056510</td>\n",
              "      <td>0.277258</td>\n",
              "    </tr>\n",
              "    <tr>\n",
              "      <th>est_diameter_min</th>\n",
              "      <td>-0.148322</td>\n",
              "      <td>1.000000</td>\n",
              "      <td>1.000000</td>\n",
              "      <td>0.221553</td>\n",
              "      <td>0.142241</td>\n",
              "      <td>-0.560188</td>\n",
              "    </tr>\n",
              "    <tr>\n",
              "      <th>est_diameter_max</th>\n",
              "      <td>-0.148322</td>\n",
              "      <td>1.000000</td>\n",
              "      <td>1.000000</td>\n",
              "      <td>0.221553</td>\n",
              "      <td>0.142241</td>\n",
              "      <td>-0.560188</td>\n",
              "    </tr>\n",
              "    <tr>\n",
              "      <th>relative_velocity</th>\n",
              "      <td>-0.059176</td>\n",
              "      <td>0.221553</td>\n",
              "      <td>0.221553</td>\n",
              "      <td>1.000000</td>\n",
              "      <td>0.327169</td>\n",
              "      <td>-0.353863</td>\n",
              "    </tr>\n",
              "    <tr>\n",
              "      <th>miss_distance</th>\n",
              "      <td>-0.056510</td>\n",
              "      <td>0.142241</td>\n",
              "      <td>0.142241</td>\n",
              "      <td>0.327169</td>\n",
              "      <td>1.000000</td>\n",
              "      <td>-0.264168</td>\n",
              "    </tr>\n",
              "    <tr>\n",
              "      <th>absolute_magnitude</th>\n",
              "      <td>0.277258</td>\n",
              "      <td>-0.560188</td>\n",
              "      <td>-0.560188</td>\n",
              "      <td>-0.353863</td>\n",
              "      <td>-0.264168</td>\n",
              "      <td>1.000000</td>\n",
              "    </tr>\n",
              "  </tbody>\n",
              "</table>\n",
              "</div>\n",
              "      <button class=\"colab-df-convert\" onclick=\"convertToInteractive('df-35ff653d-3538-4f1c-9872-e6e0997ae655')\"\n",
              "              title=\"Convert this dataframe to an interactive table.\"\n",
              "              style=\"display:none;\">\n",
              "        \n",
              "  <svg xmlns=\"http://www.w3.org/2000/svg\" height=\"24px\"viewBox=\"0 0 24 24\"\n",
              "       width=\"24px\">\n",
              "    <path d=\"M0 0h24v24H0V0z\" fill=\"none\"/>\n",
              "    <path d=\"M18.56 5.44l.94 2.06.94-2.06 2.06-.94-2.06-.94-.94-2.06-.94 2.06-2.06.94zm-11 1L8.5 8.5l.94-2.06 2.06-.94-2.06-.94L8.5 2.5l-.94 2.06-2.06.94zm10 10l.94 2.06.94-2.06 2.06-.94-2.06-.94-.94-2.06-.94 2.06-2.06.94z\"/><path d=\"M17.41 7.96l-1.37-1.37c-.4-.4-.92-.59-1.43-.59-.52 0-1.04.2-1.43.59L10.3 9.45l-7.72 7.72c-.78.78-.78 2.05 0 2.83L4 21.41c.39.39.9.59 1.41.59.51 0 1.02-.2 1.41-.59l7.78-7.78 2.81-2.81c.8-.78.8-2.07 0-2.86zM5.41 20L4 18.59l7.72-7.72 1.47 1.35L5.41 20z\"/>\n",
              "  </svg>\n",
              "      </button>\n",
              "      \n",
              "  <style>\n",
              "    .colab-df-container {\n",
              "      display:flex;\n",
              "      flex-wrap:wrap;\n",
              "      gap: 12px;\n",
              "    }\n",
              "\n",
              "    .colab-df-convert {\n",
              "      background-color: #E8F0FE;\n",
              "      border: none;\n",
              "      border-radius: 50%;\n",
              "      cursor: pointer;\n",
              "      display: none;\n",
              "      fill: #1967D2;\n",
              "      height: 32px;\n",
              "      padding: 0 0 0 0;\n",
              "      width: 32px;\n",
              "    }\n",
              "\n",
              "    .colab-df-convert:hover {\n",
              "      background-color: #E2EBFA;\n",
              "      box-shadow: 0px 1px 2px rgba(60, 64, 67, 0.3), 0px 1px 3px 1px rgba(60, 64, 67, 0.15);\n",
              "      fill: #174EA6;\n",
              "    }\n",
              "\n",
              "    [theme=dark] .colab-df-convert {\n",
              "      background-color: #3B4455;\n",
              "      fill: #D2E3FC;\n",
              "    }\n",
              "\n",
              "    [theme=dark] .colab-df-convert:hover {\n",
              "      background-color: #434B5C;\n",
              "      box-shadow: 0px 1px 3px 1px rgba(0, 0, 0, 0.15);\n",
              "      filter: drop-shadow(0px 1px 2px rgba(0, 0, 0, 0.3));\n",
              "      fill: #FFFFFF;\n",
              "    }\n",
              "  </style>\n",
              "\n",
              "      <script>\n",
              "        const buttonEl =\n",
              "          document.querySelector('#df-35ff653d-3538-4f1c-9872-e6e0997ae655 button.colab-df-convert');\n",
              "        buttonEl.style.display =\n",
              "          google.colab.kernel.accessAllowed ? 'block' : 'none';\n",
              "\n",
              "        async function convertToInteractive(key) {\n",
              "          const element = document.querySelector('#df-35ff653d-3538-4f1c-9872-e6e0997ae655');\n",
              "          const dataTable =\n",
              "            await google.colab.kernel.invokeFunction('convertToInteractive',\n",
              "                                                     [key], {});\n",
              "          if (!dataTable) return;\n",
              "\n",
              "          const docLinkHtml = 'Like what you see? Visit the ' +\n",
              "            '<a target=\"_blank\" href=https://colab.research.google.com/notebooks/data_table.ipynb>data table notebook</a>'\n",
              "            + ' to learn more about interactive tables.';\n",
              "          element.innerHTML = '';\n",
              "          dataTable['output_type'] = 'display_data';\n",
              "          await google.colab.output.renderOutput(dataTable, element);\n",
              "          const docLink = document.createElement('div');\n",
              "          docLink.innerHTML = docLinkHtml;\n",
              "          element.appendChild(docLink);\n",
              "        }\n",
              "      </script>\n",
              "    </div>\n",
              "  </div>\n",
              "  "
            ]
          },
          "metadata": {},
          "execution_count": 32
        }
      ],
      "id": "BrJVAe0yrGub"
    },
    {
      "cell_type": "markdown",
      "source": [
        "First, I will display the data along with its data type."
      ],
      "metadata": {
        "id": "fde71BBhRVGR"
      },
      "id": "fde71BBhRVGR"
    },
    {
      "cell_type": "code",
      "source": [
        "data.info()"
      ],
      "metadata": {
        "colab": {
          "base_uri": "https://localhost:8080/"
        },
        "id": "dJmpbfTv9Anl",
        "outputId": "4bb72ece-2d13-4361-a2d4-14298ff1a4cb"
      },
      "id": "dJmpbfTv9Anl",
      "execution_count": 33,
      "outputs": [
        {
          "output_type": "stream",
          "name": "stdout",
          "text": [
            "<class 'pandas.core.frame.DataFrame'>\n",
            "RangeIndex: 90836 entries, 0 to 90835\n",
            "Data columns (total 10 columns):\n",
            " #   Column              Non-Null Count  Dtype  \n",
            "---  ------              --------------  -----  \n",
            " 0   id                  90836 non-null  int64  \n",
            " 1   Name                90836 non-null  object \n",
            " 2   est_diameter_min    90836 non-null  float64\n",
            " 3   est_diameter_max    90836 non-null  float64\n",
            " 4   relative_velocity   90836 non-null  float64\n",
            " 5   miss_distance       90836 non-null  float64\n",
            " 6   orbiting_body       90836 non-null  object \n",
            " 7   sentry_object       90836 non-null  bool   \n",
            " 8   absolute_magnitude  90836 non-null  float64\n",
            " 9   hazardous           90836 non-null  bool   \n",
            "dtypes: bool(2), float64(5), int64(1), object(2)\n",
            "memory usage: 5.7+ MB\n"
          ]
        }
      ]
    },
    {
      "cell_type": "markdown",
      "source": [
        "Next, I will make a third data set with a few additional features removed using the data drop function for analysis later on."
      ],
      "metadata": {
        "id": "zd-rGpUORchz"
      },
      "id": "zd-rGpUORchz"
    },
    {
      "cell_type": "code",
      "source": [
        "data3=data.drop(['id','est_diameter_min','est_diameter_max','relative_velocity','miss_distance','sentry_object','absolute_magnitude','hazardous','orbiting_body','Name'],axis=1)"
      ],
      "metadata": {
        "id": "7emSiVuA968T"
      },
      "id": "7emSiVuA968T",
      "execution_count": 34,
      "outputs": []
    },
    {
      "cell_type": "markdown",
      "source": [
        "##Continuous vs. Continuous"
      ],
      "metadata": {
        "id": "AIkOrCEq9oqr"
      },
      "id": "AIkOrCEq9oqr"
    },
    {
      "cell_type": "markdown",
      "source": [
        "Next, I will use scatter plots to compare two features.\n",
        "\n"
      ],
      "metadata": {
        "id": "RAFKwO4wRtzZ"
      },
      "id": "RAFKwO4wRtzZ"
    },
    {
      "cell_type": "code",
      "source": [
        "fig, axes = plt.subplots(3, 2, figsize=(12,12))\n",
        "index = 0\n",
        "for i in range(3):\n",
        "    for j in range(i+1,4):\n",
        "        ax1 = int(index/2)\n",
        "        ax2 = index % 2\n",
        "        axes[ax1][ax2].scatter(data2[data2.columns[i]], data2[data2.columns[j]], color='green')\n",
        "        axes[ax1][ax2].set_xlabel(data2.columns[i])\n",
        "        axes[ax1][ax2].set_ylabel(data2.columns[j])\n",
        "        index = index + 1"
      ],
      "metadata": {
        "id": "kYU7qULb_y6m",
        "colab": {
          "base_uri": "https://localhost:8080/",
          "height": 1000
        },
        "outputId": "6d910e42-a857-411c-c177-73e557f4b720"
      },
      "execution_count": 35,
      "outputs": [
        {
          "output_type": "display_data",
          "data": {
            "text/plain": [
              "<Figure size 1200x1200 with 6 Axes>"
            ],
            "image/png": "[encoded data removed]"
          },
          "metadata": {}
        }
      ],
      "id": "kYU7qULb_y6m"
    },
    {
      "cell_type": "markdown",
      "source": [
        "###Categorical vs Categorical"
      ],
      "metadata": {
        "id": "7gUsLvX7BEL6"
      },
      "id": "7gUsLvX7BEL6"
    },
    {
      "cell_type": "markdown",
      "source": [
        "Next, I will use a KDE plot to compare two categorical values."
      ],
      "metadata": {
        "id": "Bxt7n6KER-sd"
      },
      "id": "Bxt7n6KER-sd"
    },
    {
      "cell_type": "code",
      "source": [
        "plt.figure(figsize=(12,8))\n",
        "sns.kdeplot(data=data, x='id', hue='hazardous',fill=True)"
      ],
      "metadata": {
        "colab": {
          "base_uri": "https://localhost:8080/",
          "height": 729
        },
        "id": "QsPLIHY_BIzy",
        "outputId": "a0029a29-8d75-4c61-94e9-f64ac1c1ec95"
      },
      "id": "QsPLIHY_BIzy",
      "execution_count": 36,
      "outputs": [
        {
          "output_type": "execute_result",
          "data": {
            "text/plain": [
              "<Axes: xlabel='id', ylabel='Density'>"
            ]
          },
          "metadata": {},
          "execution_count": 36
        },
        {
          "output_type": "display_data",
          "data": {
            "text/plain": [
              "<Figure size 1200x800 with 1 Axes>"
            ],
            "image/png": "[encoded data removed]"
          },
          "metadata": {}
        }
      ]
    },
    {
      "cell_type": "markdown",
      "source": [
        "Next, I will use box plot to see if any values are unequally distributed."
      ],
      "metadata": {
        "id": "pHYnv_JYSFac"
      },
      "id": "pHYnv_JYSFac"
    },
    {
      "cell_type": "code",
      "source": [
        "data2.boxplot()"
      ],
      "metadata": {
        "id": "3S3RqfTJrUq4",
        "colab": {
          "base_uri": "https://localhost:8080/",
          "height": 463
        },
        "outputId": "12a6c1bd-270d-405d-d956-6e21aad3e32c"
      },
      "execution_count": 37,
      "outputs": [
        {
          "output_type": "execute_result",
          "data": {
            "text/plain": [
              "<Axes: >"
            ]
          },
          "metadata": {},
          "execution_count": 37
        },
        {
          "output_type": "display_data",
          "data": {
            "text/plain": [
              "<Figure size 640x480 with 1 Axes>"
            ],
            "image/png": "[encoded data removed]"
          },
          "metadata": {}
        }
      ],
      "id": "3S3RqfTJrUq4"
    },
    {
      "cell_type": "markdown",
      "source": [
        "#Multivariate Analysis:"
      ],
      "metadata": {
        "id": "0Gsn2k_QMss8"
      },
      "id": "0Gsn2k_QMss8"
    },
    {
      "cell_type": "markdown",
      "source": [
        "Lastly, I will use a heat map to display multiple variables at the same time to analyze their comparisons."
      ],
      "metadata": {
        "id": "irNE3PYJSN-W"
      },
      "id": "irNE3PYJSN-W"
    },
    {
      "cell_type": "code",
      "source": [
        "sns.heatmap(data.corr(), annot=True)"
      ],
      "metadata": {
        "colab": {
          "base_uri": "https://localhost:8080/",
          "height": 618
        },
        "id": "zSL32eTsE3R-",
        "outputId": "fa11f199-de10-41e3-e672-1dcaa6ec9f6d"
      },
      "id": "zSL32eTsE3R-",
      "execution_count": 38,
      "outputs": [
        {
          "output_type": "stream",
          "name": "stderr",
          "text": [
            "<ipython-input-38-b699050ce883>:1: FutureWarning: The default value of numeric_only in DataFrame.corr is deprecated. In a future version, it will default to False. Select only valid columns or specify the value of numeric_only to silence this warning.\n",
            "  sns.heatmap(data.corr(), annot=True)\n"
          ]
        },
        {
          "output_type": "execute_result",
          "data": {
            "text/plain": [
              "<Axes: >"
            ]
          },
          "metadata": {},
          "execution_count": 38
        },
        {
          "output_type": "display_data",
          "data": {
            "text/plain": [
              "<Figure size 640x480 with 2 Axes>"
            ],
            "image/png": "[encoded data removed]"
          },
          "metadata": {}
        }
      ]
    },
    {
      "cell_type": "markdown",
      "source": [
        "#Findings:"
      ],
      "metadata": {
        "id": "3YiDW-SoSdx9"
      },
      "id": "3YiDW-SoSdx9"
    },
    {
      "cell_type": "markdown",
      "source": [
        "  When using visual representations of the data, it's easy to identify how specific features and attributes correlate. For instance, when examining categorical values using the KDE plot, it's easy to distinguish which values there are more of. It also makes it easier to identify which features share similar values. Using histograms proved to be a useful way to analyze the data visually when using individual features."
      ],
      "metadata": {
        "id": "TF83aoO8SgYV"
      },
      "id": "TF83aoO8SgYV"
    },
    {
      "cell_type": "markdown",
      "source": [
        "#References:"
      ],
      "metadata": {
        "id": "R7vyrw4g3Upt"
      },
      "id": "R7vyrw4g3Upt"
    },
    {
      "cell_type": "markdown",
      "source": [
        "Chainika Thakar Blog: https://blog.quantinsti.com/data-preprocessing/\n",
        "\n",
        "Dr. Reddy's example: https://blackboard.ecok.edu/ultra/courses/_24357_1/cl/outline\n",
        "\n",
        "aditya191251015002. (2022, November 7). What is Univariate, Bivariate &amp; Multivariate Analysis In Data Visualisation?. GeeksforGeeks. https://www.geeksforgeeks.org/what-is-univariate-bivariate-multivariate-analysis-in-data-visualisation/\n",
        "\n",
        "Medium.com: https://medium.com/mlearning-ai/univariate-bivariate-and-multivariate-data-analysis-in-python-341493c3d173"
      ],
      "metadata": {
        "id": "c9KFsPMh3ZgE"
      },
      "id": "c9KFsPMh3ZgE"
    }
  ],
  "metadata": {
    "colab": {
      "provenance": [],
      "include_colab_link": true
    },
    "kernelspec": {
      "display_name": "Python 3 (ipykernel)",
      "language": "python",
      "name": "python3"
    },
    "language_info": {
      "codemirror_mode": {
        "name": "ipython",
        "version": 3
      },
      "file_extension": ".py",
      "mimetype": "text/x-python",
      "name": "python",
      "nbconvert_exporter": "python",
      "pygments_lexer": "ipython3",
      "version": "3.9.12"
    }
  },
  "nbformat": 4,
  "nbformat_minor": 5
}